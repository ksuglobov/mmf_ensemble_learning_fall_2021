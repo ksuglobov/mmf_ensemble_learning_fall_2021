{
  "cells": [
    {
      "cell_type": "markdown",
      "metadata": {
        "id": "WcsTiy6fqKyc"
      },
      "source": [
        "## Импорты и настройки"
      ]
    },
    {
      "cell_type": "code",
      "execution_count": 1,
      "metadata": {
        "id": "iYcJCIynp6CU"
      },
      "outputs": [],
      "source": [
        "import numpy as np\n",
        "import pandas as pd"
      ]
    },
    {
      "cell_type": "markdown",
      "metadata": {
        "id": "Y7YLBh9tqU_h"
      },
      "source": [
        "Для графиков:"
      ]
    },
    {
      "cell_type": "code",
      "execution_count": 2,
      "metadata": {
        "id": "OOseC0IZqWXj"
      },
      "outputs": [],
      "source": [
        "import matplotlib as mpl\n",
        "import matplotlib.pyplot as plt"
      ]
    },
    {
      "cell_type": "markdown",
      "metadata": {
        "id": "4dd_4NWxqig1"
      },
      "source": [
        "Дополнительно:"
      ]
    },
    {
      "cell_type": "code",
      "execution_count": 3,
      "metadata": {
        "id": "jivZrwR9qdte"
      },
      "outputs": [],
      "source": [
        "import time\n",
        "from tqdm import tqdm, trange"
      ]
    },
    {
      "cell_type": "markdown",
      "metadata": {
        "id": "PfzYHbaINsA8"
      },
      "source": [
        "Для разделения данных:"
      ]
    },
    {
      "cell_type": "code",
      "execution_count": 4,
      "metadata": {
        "id": "9Sr1liVnNsA9"
      },
      "outputs": [],
      "source": [
        "from sklearn.model_selection import train_test_split"
      ]
    },
    {
      "cell_type": "markdown",
      "metadata": {
        "id": "ZJvPeZKnrKev"
      },
      "source": [
        "Модели:"
      ]
    },
    {
      "cell_type": "code",
      "execution_count": 5,
      "metadata": {
        "id": "L32RI5L3NsA_"
      },
      "outputs": [],
      "source": [
        "from ensembles import RMSE, RandomForestMSE, GradientBoostingMSE"
      ]
    },
    {
      "cell_type": "markdown",
      "metadata": {
        "id": "KrtuSz9nNsBA"
      },
      "source": [
        "Настроим отображение графиков:"
      ]
    },
    {
      "cell_type": "code",
      "execution_count": 6,
      "metadata": {
        "id": "_afRbYNANsBA"
      },
      "outputs": [],
      "source": [
        "plt.rc('axes', axisbelow=True, grid=True)\n",
        "plt.rc('grid', c='grey', ls=':')\n",
        "plt.rc('savefig', bbox='tight', pad_inches=0.1, format='pdf')\n",
        "opt_color = 'mediumspringgreen'"
      ]
    },
    {
      "cell_type": "markdown",
      "source": [
        "Директории (для данных, для бинарных файлов numpy, для графиков pdf):"
      ],
      "metadata": {
        "id": "BsYs2ShIzSr6"
      }
    },
    {
      "cell_type": "code",
      "source": [
        "data_dir = '../data/'\n",
        "bin_dir = 'bin/'\n",
        "graph_dir = 'graphics/'"
      ],
      "metadata": {
        "id": "bKmnhI37zVsr"
      },
      "execution_count": 7,
      "outputs": []
    },
    {
      "cell_type": "markdown",
      "metadata": {
        "id": "Fm_Qq_MgNsBA"
      },
      "source": [
        "## 1. Загрузка и предобработка данных"
      ]
    },
    {
      "cell_type": "code",
      "execution_count": 8,
      "metadata": {
        "colab": {
          "base_uri": "https://localhost:8080/",
          "height": 519
        },
        "id": "OXod01VtNsBB",
        "outputId": "9d140e9c-d8d1-461f-cd1e-9f996c966d45"
      },
      "outputs": [
        {
          "output_type": "execute_result",
          "data": {
            "text/html": [
              "\n",
              "  <div id=\"df-b9bbf705-37cd-4f6b-9468-412f15744fb2\">\n",
              "    <div class=\"colab-df-container\">\n",
              "      <div>\n",
              "<style scoped>\n",
              "    .dataframe tbody tr th:only-of-type {\n",
              "        vertical-align: middle;\n",
              "    }\n",
              "\n",
              "    .dataframe tbody tr th {\n",
              "        vertical-align: top;\n",
              "    }\n",
              "\n",
              "    .dataframe thead th {\n",
              "        text-align: right;\n",
              "    }\n",
              "</style>\n",
              "<table border=\"1\" class=\"dataframe\">\n",
              "  <thead>\n",
              "    <tr style=\"text-align: right;\">\n",
              "      <th></th>\n",
              "      <th>date</th>\n",
              "      <th>price</th>\n",
              "      <th>bedrooms</th>\n",
              "      <th>bathrooms</th>\n",
              "      <th>sqft_living</th>\n",
              "      <th>sqft_lot</th>\n",
              "      <th>floors</th>\n",
              "      <th>waterfront</th>\n",
              "      <th>view</th>\n",
              "      <th>condition</th>\n",
              "      <th>grade</th>\n",
              "      <th>sqft_above</th>\n",
              "      <th>sqft_basement</th>\n",
              "      <th>yr_built</th>\n",
              "      <th>yr_renovated</th>\n",
              "      <th>zipcode</th>\n",
              "      <th>lat</th>\n",
              "      <th>long</th>\n",
              "      <th>sqft_living15</th>\n",
              "      <th>sqft_lot15</th>\n",
              "    </tr>\n",
              "    <tr>\n",
              "      <th>id</th>\n",
              "      <th></th>\n",
              "      <th></th>\n",
              "      <th></th>\n",
              "      <th></th>\n",
              "      <th></th>\n",
              "      <th></th>\n",
              "      <th></th>\n",
              "      <th></th>\n",
              "      <th></th>\n",
              "      <th></th>\n",
              "      <th></th>\n",
              "      <th></th>\n",
              "      <th></th>\n",
              "      <th></th>\n",
              "      <th></th>\n",
              "      <th></th>\n",
              "      <th></th>\n",
              "      <th></th>\n",
              "      <th></th>\n",
              "      <th></th>\n",
              "    </tr>\n",
              "  </thead>\n",
              "  <tbody>\n",
              "    <tr>\n",
              "      <th>7129300520</th>\n",
              "      <td>20141013T000000</td>\n",
              "      <td>221900.0</td>\n",
              "      <td>3</td>\n",
              "      <td>1.00</td>\n",
              "      <td>1180</td>\n",
              "      <td>5650</td>\n",
              "      <td>1.0</td>\n",
              "      <td>0</td>\n",
              "      <td>0</td>\n",
              "      <td>3</td>\n",
              "      <td>7</td>\n",
              "      <td>1180</td>\n",
              "      <td>0</td>\n",
              "      <td>1955</td>\n",
              "      <td>0</td>\n",
              "      <td>98178</td>\n",
              "      <td>47.5112</td>\n",
              "      <td>-122.257</td>\n",
              "      <td>1340</td>\n",
              "      <td>5650</td>\n",
              "    </tr>\n",
              "    <tr>\n",
              "      <th>6414100192</th>\n",
              "      <td>20141209T000000</td>\n",
              "      <td>538000.0</td>\n",
              "      <td>3</td>\n",
              "      <td>2.25</td>\n",
              "      <td>2570</td>\n",
              "      <td>7242</td>\n",
              "      <td>2.0</td>\n",
              "      <td>0</td>\n",
              "      <td>0</td>\n",
              "      <td>3</td>\n",
              "      <td>7</td>\n",
              "      <td>2170</td>\n",
              "      <td>400</td>\n",
              "      <td>1951</td>\n",
              "      <td>1991</td>\n",
              "      <td>98125</td>\n",
              "      <td>47.7210</td>\n",
              "      <td>-122.319</td>\n",
              "      <td>1690</td>\n",
              "      <td>7639</td>\n",
              "    </tr>\n",
              "    <tr>\n",
              "      <th>5631500400</th>\n",
              "      <td>20150225T000000</td>\n",
              "      <td>180000.0</td>\n",
              "      <td>2</td>\n",
              "      <td>1.00</td>\n",
              "      <td>770</td>\n",
              "      <td>10000</td>\n",
              "      <td>1.0</td>\n",
              "      <td>0</td>\n",
              "      <td>0</td>\n",
              "      <td>3</td>\n",
              "      <td>6</td>\n",
              "      <td>770</td>\n",
              "      <td>0</td>\n",
              "      <td>1933</td>\n",
              "      <td>0</td>\n",
              "      <td>98028</td>\n",
              "      <td>47.7379</td>\n",
              "      <td>-122.233</td>\n",
              "      <td>2720</td>\n",
              "      <td>8062</td>\n",
              "    </tr>\n",
              "    <tr>\n",
              "      <th>2487200875</th>\n",
              "      <td>20141209T000000</td>\n",
              "      <td>604000.0</td>\n",
              "      <td>4</td>\n",
              "      <td>3.00</td>\n",
              "      <td>1960</td>\n",
              "      <td>5000</td>\n",
              "      <td>1.0</td>\n",
              "      <td>0</td>\n",
              "      <td>0</td>\n",
              "      <td>5</td>\n",
              "      <td>7</td>\n",
              "      <td>1050</td>\n",
              "      <td>910</td>\n",
              "      <td>1965</td>\n",
              "      <td>0</td>\n",
              "      <td>98136</td>\n",
              "      <td>47.5208</td>\n",
              "      <td>-122.393</td>\n",
              "      <td>1360</td>\n",
              "      <td>5000</td>\n",
              "    </tr>\n",
              "    <tr>\n",
              "      <th>1954400510</th>\n",
              "      <td>20150218T000000</td>\n",
              "      <td>510000.0</td>\n",
              "      <td>3</td>\n",
              "      <td>2.00</td>\n",
              "      <td>1680</td>\n",
              "      <td>8080</td>\n",
              "      <td>1.0</td>\n",
              "      <td>0</td>\n",
              "      <td>0</td>\n",
              "      <td>3</td>\n",
              "      <td>8</td>\n",
              "      <td>1680</td>\n",
              "      <td>0</td>\n",
              "      <td>1987</td>\n",
              "      <td>0</td>\n",
              "      <td>98074</td>\n",
              "      <td>47.6168</td>\n",
              "      <td>-122.045</td>\n",
              "      <td>1800</td>\n",
              "      <td>7503</td>\n",
              "    </tr>\n",
              "    <tr>\n",
              "      <th>...</th>\n",
              "      <td>...</td>\n",
              "      <td>...</td>\n",
              "      <td>...</td>\n",
              "      <td>...</td>\n",
              "      <td>...</td>\n",
              "      <td>...</td>\n",
              "      <td>...</td>\n",
              "      <td>...</td>\n",
              "      <td>...</td>\n",
              "      <td>...</td>\n",
              "      <td>...</td>\n",
              "      <td>...</td>\n",
              "      <td>...</td>\n",
              "      <td>...</td>\n",
              "      <td>...</td>\n",
              "      <td>...</td>\n",
              "      <td>...</td>\n",
              "      <td>...</td>\n",
              "      <td>...</td>\n",
              "      <td>...</td>\n",
              "    </tr>\n",
              "    <tr>\n",
              "      <th>263000018</th>\n",
              "      <td>20140521T000000</td>\n",
              "      <td>360000.0</td>\n",
              "      <td>3</td>\n",
              "      <td>2.50</td>\n",
              "      <td>1530</td>\n",
              "      <td>1131</td>\n",
              "      <td>3.0</td>\n",
              "      <td>0</td>\n",
              "      <td>0</td>\n",
              "      <td>3</td>\n",
              "      <td>8</td>\n",
              "      <td>1530</td>\n",
              "      <td>0</td>\n",
              "      <td>2009</td>\n",
              "      <td>0</td>\n",
              "      <td>98103</td>\n",
              "      <td>47.6993</td>\n",
              "      <td>-122.346</td>\n",
              "      <td>1530</td>\n",
              "      <td>1509</td>\n",
              "    </tr>\n",
              "    <tr>\n",
              "      <th>6600060120</th>\n",
              "      <td>20150223T000000</td>\n",
              "      <td>400000.0</td>\n",
              "      <td>4</td>\n",
              "      <td>2.50</td>\n",
              "      <td>2310</td>\n",
              "      <td>5813</td>\n",
              "      <td>2.0</td>\n",
              "      <td>0</td>\n",
              "      <td>0</td>\n",
              "      <td>3</td>\n",
              "      <td>8</td>\n",
              "      <td>2310</td>\n",
              "      <td>0</td>\n",
              "      <td>2014</td>\n",
              "      <td>0</td>\n",
              "      <td>98146</td>\n",
              "      <td>47.5107</td>\n",
              "      <td>-122.362</td>\n",
              "      <td>1830</td>\n",
              "      <td>7200</td>\n",
              "    </tr>\n",
              "    <tr>\n",
              "      <th>1523300141</th>\n",
              "      <td>20140623T000000</td>\n",
              "      <td>402101.0</td>\n",
              "      <td>2</td>\n",
              "      <td>0.75</td>\n",
              "      <td>1020</td>\n",
              "      <td>1350</td>\n",
              "      <td>2.0</td>\n",
              "      <td>0</td>\n",
              "      <td>0</td>\n",
              "      <td>3</td>\n",
              "      <td>7</td>\n",
              "      <td>1020</td>\n",
              "      <td>0</td>\n",
              "      <td>2009</td>\n",
              "      <td>0</td>\n",
              "      <td>98144</td>\n",
              "      <td>47.5944</td>\n",
              "      <td>-122.299</td>\n",
              "      <td>1020</td>\n",
              "      <td>2007</td>\n",
              "    </tr>\n",
              "    <tr>\n",
              "      <th>291310100</th>\n",
              "      <td>20150116T000000</td>\n",
              "      <td>400000.0</td>\n",
              "      <td>3</td>\n",
              "      <td>2.50</td>\n",
              "      <td>1600</td>\n",
              "      <td>2388</td>\n",
              "      <td>2.0</td>\n",
              "      <td>0</td>\n",
              "      <td>0</td>\n",
              "      <td>3</td>\n",
              "      <td>8</td>\n",
              "      <td>1600</td>\n",
              "      <td>0</td>\n",
              "      <td>2004</td>\n",
              "      <td>0</td>\n",
              "      <td>98027</td>\n",
              "      <td>47.5345</td>\n",
              "      <td>-122.069</td>\n",
              "      <td>1410</td>\n",
              "      <td>1287</td>\n",
              "    </tr>\n",
              "    <tr>\n",
              "      <th>1523300157</th>\n",
              "      <td>20141015T000000</td>\n",
              "      <td>325000.0</td>\n",
              "      <td>2</td>\n",
              "      <td>0.75</td>\n",
              "      <td>1020</td>\n",
              "      <td>1076</td>\n",
              "      <td>2.0</td>\n",
              "      <td>0</td>\n",
              "      <td>0</td>\n",
              "      <td>3</td>\n",
              "      <td>7</td>\n",
              "      <td>1020</td>\n",
              "      <td>0</td>\n",
              "      <td>2008</td>\n",
              "      <td>0</td>\n",
              "      <td>98144</td>\n",
              "      <td>47.5941</td>\n",
              "      <td>-122.299</td>\n",
              "      <td>1020</td>\n",
              "      <td>1357</td>\n",
              "    </tr>\n",
              "  </tbody>\n",
              "</table>\n",
              "<p>21613 rows × 20 columns</p>\n",
              "</div>\n",
              "      <button class=\"colab-df-convert\" onclick=\"convertToInteractive('df-b9bbf705-37cd-4f6b-9468-412f15744fb2')\"\n",
              "              title=\"Convert this dataframe to an interactive table.\"\n",
              "              style=\"display:none;\">\n",
              "        \n",
              "  <svg xmlns=\"http://www.w3.org/2000/svg\" height=\"24px\"viewBox=\"0 0 24 24\"\n",
              "       width=\"24px\">\n",
              "    <path d=\"M0 0h24v24H0V0z\" fill=\"none\"/>\n",
              "    <path d=\"M18.56 5.44l.94 2.06.94-2.06 2.06-.94-2.06-.94-.94-2.06-.94 2.06-2.06.94zm-11 1L8.5 8.5l.94-2.06 2.06-.94-2.06-.94L8.5 2.5l-.94 2.06-2.06.94zm10 10l.94 2.06.94-2.06 2.06-.94-2.06-.94-.94-2.06-.94 2.06-2.06.94z\"/><path d=\"M17.41 7.96l-1.37-1.37c-.4-.4-.92-.59-1.43-.59-.52 0-1.04.2-1.43.59L10.3 9.45l-7.72 7.72c-.78.78-.78 2.05 0 2.83L4 21.41c.39.39.9.59 1.41.59.51 0 1.02-.2 1.41-.59l7.78-7.78 2.81-2.81c.8-.78.8-2.07 0-2.86zM5.41 20L4 18.59l7.72-7.72 1.47 1.35L5.41 20z\"/>\n",
              "  </svg>\n",
              "      </button>\n",
              "      \n",
              "  <style>\n",
              "    .colab-df-container {\n",
              "      display:flex;\n",
              "      flex-wrap:wrap;\n",
              "      gap: 12px;\n",
              "    }\n",
              "\n",
              "    .colab-df-convert {\n",
              "      background-color: #E8F0FE;\n",
              "      border: none;\n",
              "      border-radius: 50%;\n",
              "      cursor: pointer;\n",
              "      display: none;\n",
              "      fill: #1967D2;\n",
              "      height: 32px;\n",
              "      padding: 0 0 0 0;\n",
              "      width: 32px;\n",
              "    }\n",
              "\n",
              "    .colab-df-convert:hover {\n",
              "      background-color: #E2EBFA;\n",
              "      box-shadow: 0px 1px 2px rgba(60, 64, 67, 0.3), 0px 1px 3px 1px rgba(60, 64, 67, 0.15);\n",
              "      fill: #174EA6;\n",
              "    }\n",
              "\n",
              "    [theme=dark] .colab-df-convert {\n",
              "      background-color: #3B4455;\n",
              "      fill: #D2E3FC;\n",
              "    }\n",
              "\n",
              "    [theme=dark] .colab-df-convert:hover {\n",
              "      background-color: #434B5C;\n",
              "      box-shadow: 0px 1px 3px 1px rgba(0, 0, 0, 0.15);\n",
              "      filter: drop-shadow(0px 1px 2px rgba(0, 0, 0, 0.3));\n",
              "      fill: #FFFFFF;\n",
              "    }\n",
              "  </style>\n",
              "\n",
              "      <script>\n",
              "        const buttonEl =\n",
              "          document.querySelector('#df-b9bbf705-37cd-4f6b-9468-412f15744fb2 button.colab-df-convert');\n",
              "        buttonEl.style.display =\n",
              "          google.colab.kernel.accessAllowed ? 'block' : 'none';\n",
              "\n",
              "        async function convertToInteractive(key) {\n",
              "          const element = document.querySelector('#df-b9bbf705-37cd-4f6b-9468-412f15744fb2');\n",
              "          const dataTable =\n",
              "            await google.colab.kernel.invokeFunction('convertToInteractive',\n",
              "                                                     [key], {});\n",
              "          if (!dataTable) return;\n",
              "\n",
              "          const docLinkHtml = 'Like what you see? Visit the ' +\n",
              "            '<a target=\"_blank\" href=https://colab.research.google.com/notebooks/data_table.ipynb>data table notebook</a>'\n",
              "            + ' to learn more about interactive tables.';\n",
              "          element.innerHTML = '';\n",
              "          dataTable['output_type'] = 'display_data';\n",
              "          await google.colab.output.renderOutput(dataTable, element);\n",
              "          const docLink = document.createElement('div');\n",
              "          docLink.innerHTML = docLinkHtml;\n",
              "          element.appendChild(docLink);\n",
              "        }\n",
              "      </script>\n",
              "    </div>\n",
              "  </div>\n",
              "  "
            ],
            "text/plain": [
              "                       date     price  ...  sqft_living15  sqft_lot15\n",
              "id                                     ...                           \n",
              "7129300520  20141013T000000  221900.0  ...           1340        5650\n",
              "6414100192  20141209T000000  538000.0  ...           1690        7639\n",
              "5631500400  20150225T000000  180000.0  ...           2720        8062\n",
              "2487200875  20141209T000000  604000.0  ...           1360        5000\n",
              "1954400510  20150218T000000  510000.0  ...           1800        7503\n",
              "...                     ...       ...  ...            ...         ...\n",
              "263000018   20140521T000000  360000.0  ...           1530        1509\n",
              "6600060120  20150223T000000  400000.0  ...           1830        7200\n",
              "1523300141  20140623T000000  402101.0  ...           1020        2007\n",
              "291310100   20150116T000000  400000.0  ...           1410        1287\n",
              "1523300157  20141015T000000  325000.0  ...           1020        1357\n",
              "\n",
              "[21613 rows x 20 columns]"
            ]
          },
          "metadata": {},
          "execution_count": 8
        }
      ],
      "source": [
        "data = pd.read_csv(data_dir + 'kc_house_data.csv', index_col=0)\n",
        "data"
      ]
    },
    {
      "cell_type": "markdown",
      "metadata": {
        "id": "CQG4yk4dNsBC"
      },
      "source": [
        "Выделяем в `y` целевую переменную - колонку `price` и убираем эту колонку из выборки; далее правим формат времени в колонке `date`:"
      ]
    },
    {
      "cell_type": "code",
      "execution_count": 9,
      "metadata": {
        "id": "4HDY--C0NsBC"
      },
      "outputs": [],
      "source": [
        "y = data['price'].to_frame()\n",
        "X = data.drop(columns=['price'])\n",
        "X['date'] = pd.to_datetime(X['date'])"
      ]
    },
    {
      "cell_type": "code",
      "execution_count": 10,
      "metadata": {
        "colab": {
          "base_uri": "https://localhost:8080/",
          "height": 693
        },
        "id": "tivcTX_VNsBC",
        "outputId": "3c51487e-275c-4598-8325-5ec2e261a7c7"
      },
      "outputs": [
        {
          "output_type": "execute_result",
          "data": {
            "text/html": [
              "\n",
              "  <div id=\"df-a1c39fb8-181e-4463-b25f-04ca296441f1\">\n",
              "    <div class=\"colab-df-container\">\n",
              "      <div>\n",
              "<style scoped>\n",
              "    .dataframe tbody tr th:only-of-type {\n",
              "        vertical-align: middle;\n",
              "    }\n",
              "\n",
              "    .dataframe tbody tr th {\n",
              "        vertical-align: top;\n",
              "    }\n",
              "\n",
              "    .dataframe thead th {\n",
              "        text-align: right;\n",
              "    }\n",
              "</style>\n",
              "<table border=\"1\" class=\"dataframe\">\n",
              "  <thead>\n",
              "    <tr style=\"text-align: right;\">\n",
              "      <th></th>\n",
              "      <th>date</th>\n",
              "      <th>bedrooms</th>\n",
              "      <th>bathrooms</th>\n",
              "      <th>sqft_living</th>\n",
              "      <th>sqft_lot</th>\n",
              "      <th>floors</th>\n",
              "      <th>waterfront</th>\n",
              "      <th>view</th>\n",
              "      <th>condition</th>\n",
              "      <th>grade</th>\n",
              "      <th>sqft_above</th>\n",
              "      <th>sqft_basement</th>\n",
              "      <th>yr_built</th>\n",
              "      <th>yr_renovated</th>\n",
              "      <th>zipcode</th>\n",
              "      <th>lat</th>\n",
              "      <th>long</th>\n",
              "      <th>sqft_living15</th>\n",
              "      <th>sqft_lot15</th>\n",
              "    </tr>\n",
              "    <tr>\n",
              "      <th>id</th>\n",
              "      <th></th>\n",
              "      <th></th>\n",
              "      <th></th>\n",
              "      <th></th>\n",
              "      <th></th>\n",
              "      <th></th>\n",
              "      <th></th>\n",
              "      <th></th>\n",
              "      <th></th>\n",
              "      <th></th>\n",
              "      <th></th>\n",
              "      <th></th>\n",
              "      <th></th>\n",
              "      <th></th>\n",
              "      <th></th>\n",
              "      <th></th>\n",
              "      <th></th>\n",
              "      <th></th>\n",
              "      <th></th>\n",
              "    </tr>\n",
              "  </thead>\n",
              "  <tbody>\n",
              "    <tr>\n",
              "      <th>7129300520</th>\n",
              "      <td>2014-10-13</td>\n",
              "      <td>3</td>\n",
              "      <td>1.00</td>\n",
              "      <td>1180</td>\n",
              "      <td>5650</td>\n",
              "      <td>1.0</td>\n",
              "      <td>0</td>\n",
              "      <td>0</td>\n",
              "      <td>3</td>\n",
              "      <td>7</td>\n",
              "      <td>1180</td>\n",
              "      <td>0</td>\n",
              "      <td>1955</td>\n",
              "      <td>0</td>\n",
              "      <td>98178</td>\n",
              "      <td>47.5112</td>\n",
              "      <td>-122.257</td>\n",
              "      <td>1340</td>\n",
              "      <td>5650</td>\n",
              "    </tr>\n",
              "    <tr>\n",
              "      <th>6414100192</th>\n",
              "      <td>2014-12-09</td>\n",
              "      <td>3</td>\n",
              "      <td>2.25</td>\n",
              "      <td>2570</td>\n",
              "      <td>7242</td>\n",
              "      <td>2.0</td>\n",
              "      <td>0</td>\n",
              "      <td>0</td>\n",
              "      <td>3</td>\n",
              "      <td>7</td>\n",
              "      <td>2170</td>\n",
              "      <td>400</td>\n",
              "      <td>1951</td>\n",
              "      <td>1991</td>\n",
              "      <td>98125</td>\n",
              "      <td>47.7210</td>\n",
              "      <td>-122.319</td>\n",
              "      <td>1690</td>\n",
              "      <td>7639</td>\n",
              "    </tr>\n",
              "    <tr>\n",
              "      <th>5631500400</th>\n",
              "      <td>2015-02-25</td>\n",
              "      <td>2</td>\n",
              "      <td>1.00</td>\n",
              "      <td>770</td>\n",
              "      <td>10000</td>\n",
              "      <td>1.0</td>\n",
              "      <td>0</td>\n",
              "      <td>0</td>\n",
              "      <td>3</td>\n",
              "      <td>6</td>\n",
              "      <td>770</td>\n",
              "      <td>0</td>\n",
              "      <td>1933</td>\n",
              "      <td>0</td>\n",
              "      <td>98028</td>\n",
              "      <td>47.7379</td>\n",
              "      <td>-122.233</td>\n",
              "      <td>2720</td>\n",
              "      <td>8062</td>\n",
              "    </tr>\n",
              "    <tr>\n",
              "      <th>2487200875</th>\n",
              "      <td>2014-12-09</td>\n",
              "      <td>4</td>\n",
              "      <td>3.00</td>\n",
              "      <td>1960</td>\n",
              "      <td>5000</td>\n",
              "      <td>1.0</td>\n",
              "      <td>0</td>\n",
              "      <td>0</td>\n",
              "      <td>5</td>\n",
              "      <td>7</td>\n",
              "      <td>1050</td>\n",
              "      <td>910</td>\n",
              "      <td>1965</td>\n",
              "      <td>0</td>\n",
              "      <td>98136</td>\n",
              "      <td>47.5208</td>\n",
              "      <td>-122.393</td>\n",
              "      <td>1360</td>\n",
              "      <td>5000</td>\n",
              "    </tr>\n",
              "    <tr>\n",
              "      <th>1954400510</th>\n",
              "      <td>2015-02-18</td>\n",
              "      <td>3</td>\n",
              "      <td>2.00</td>\n",
              "      <td>1680</td>\n",
              "      <td>8080</td>\n",
              "      <td>1.0</td>\n",
              "      <td>0</td>\n",
              "      <td>0</td>\n",
              "      <td>3</td>\n",
              "      <td>8</td>\n",
              "      <td>1680</td>\n",
              "      <td>0</td>\n",
              "      <td>1987</td>\n",
              "      <td>0</td>\n",
              "      <td>98074</td>\n",
              "      <td>47.6168</td>\n",
              "      <td>-122.045</td>\n",
              "      <td>1800</td>\n",
              "      <td>7503</td>\n",
              "    </tr>\n",
              "    <tr>\n",
              "      <th>...</th>\n",
              "      <td>...</td>\n",
              "      <td>...</td>\n",
              "      <td>...</td>\n",
              "      <td>...</td>\n",
              "      <td>...</td>\n",
              "      <td>...</td>\n",
              "      <td>...</td>\n",
              "      <td>...</td>\n",
              "      <td>...</td>\n",
              "      <td>...</td>\n",
              "      <td>...</td>\n",
              "      <td>...</td>\n",
              "      <td>...</td>\n",
              "      <td>...</td>\n",
              "      <td>...</td>\n",
              "      <td>...</td>\n",
              "      <td>...</td>\n",
              "      <td>...</td>\n",
              "      <td>...</td>\n",
              "    </tr>\n",
              "    <tr>\n",
              "      <th>263000018</th>\n",
              "      <td>2014-05-21</td>\n",
              "      <td>3</td>\n",
              "      <td>2.50</td>\n",
              "      <td>1530</td>\n",
              "      <td>1131</td>\n",
              "      <td>3.0</td>\n",
              "      <td>0</td>\n",
              "      <td>0</td>\n",
              "      <td>3</td>\n",
              "      <td>8</td>\n",
              "      <td>1530</td>\n",
              "      <td>0</td>\n",
              "      <td>2009</td>\n",
              "      <td>0</td>\n",
              "      <td>98103</td>\n",
              "      <td>47.6993</td>\n",
              "      <td>-122.346</td>\n",
              "      <td>1530</td>\n",
              "      <td>1509</td>\n",
              "    </tr>\n",
              "    <tr>\n",
              "      <th>6600060120</th>\n",
              "      <td>2015-02-23</td>\n",
              "      <td>4</td>\n",
              "      <td>2.50</td>\n",
              "      <td>2310</td>\n",
              "      <td>5813</td>\n",
              "      <td>2.0</td>\n",
              "      <td>0</td>\n",
              "      <td>0</td>\n",
              "      <td>3</td>\n",
              "      <td>8</td>\n",
              "      <td>2310</td>\n",
              "      <td>0</td>\n",
              "      <td>2014</td>\n",
              "      <td>0</td>\n",
              "      <td>98146</td>\n",
              "      <td>47.5107</td>\n",
              "      <td>-122.362</td>\n",
              "      <td>1830</td>\n",
              "      <td>7200</td>\n",
              "    </tr>\n",
              "    <tr>\n",
              "      <th>1523300141</th>\n",
              "      <td>2014-06-23</td>\n",
              "      <td>2</td>\n",
              "      <td>0.75</td>\n",
              "      <td>1020</td>\n",
              "      <td>1350</td>\n",
              "      <td>2.0</td>\n",
              "      <td>0</td>\n",
              "      <td>0</td>\n",
              "      <td>3</td>\n",
              "      <td>7</td>\n",
              "      <td>1020</td>\n",
              "      <td>0</td>\n",
              "      <td>2009</td>\n",
              "      <td>0</td>\n",
              "      <td>98144</td>\n",
              "      <td>47.5944</td>\n",
              "      <td>-122.299</td>\n",
              "      <td>1020</td>\n",
              "      <td>2007</td>\n",
              "    </tr>\n",
              "    <tr>\n",
              "      <th>291310100</th>\n",
              "      <td>2015-01-16</td>\n",
              "      <td>3</td>\n",
              "      <td>2.50</td>\n",
              "      <td>1600</td>\n",
              "      <td>2388</td>\n",
              "      <td>2.0</td>\n",
              "      <td>0</td>\n",
              "      <td>0</td>\n",
              "      <td>3</td>\n",
              "      <td>8</td>\n",
              "      <td>1600</td>\n",
              "      <td>0</td>\n",
              "      <td>2004</td>\n",
              "      <td>0</td>\n",
              "      <td>98027</td>\n",
              "      <td>47.5345</td>\n",
              "      <td>-122.069</td>\n",
              "      <td>1410</td>\n",
              "      <td>1287</td>\n",
              "    </tr>\n",
              "    <tr>\n",
              "      <th>1523300157</th>\n",
              "      <td>2014-10-15</td>\n",
              "      <td>2</td>\n",
              "      <td>0.75</td>\n",
              "      <td>1020</td>\n",
              "      <td>1076</td>\n",
              "      <td>2.0</td>\n",
              "      <td>0</td>\n",
              "      <td>0</td>\n",
              "      <td>3</td>\n",
              "      <td>7</td>\n",
              "      <td>1020</td>\n",
              "      <td>0</td>\n",
              "      <td>2008</td>\n",
              "      <td>0</td>\n",
              "      <td>98144</td>\n",
              "      <td>47.5941</td>\n",
              "      <td>-122.299</td>\n",
              "      <td>1020</td>\n",
              "      <td>1357</td>\n",
              "    </tr>\n",
              "  </tbody>\n",
              "</table>\n",
              "<p>21613 rows × 19 columns</p>\n",
              "</div>\n",
              "      <button class=\"colab-df-convert\" onclick=\"convertToInteractive('df-a1c39fb8-181e-4463-b25f-04ca296441f1')\"\n",
              "              title=\"Convert this dataframe to an interactive table.\"\n",
              "              style=\"display:none;\">\n",
              "        \n",
              "  <svg xmlns=\"http://www.w3.org/2000/svg\" height=\"24px\"viewBox=\"0 0 24 24\"\n",
              "       width=\"24px\">\n",
              "    <path d=\"M0 0h24v24H0V0z\" fill=\"none\"/>\n",
              "    <path d=\"M18.56 5.44l.94 2.06.94-2.06 2.06-.94-2.06-.94-.94-2.06-.94 2.06-2.06.94zm-11 1L8.5 8.5l.94-2.06 2.06-.94-2.06-.94L8.5 2.5l-.94 2.06-2.06.94zm10 10l.94 2.06.94-2.06 2.06-.94-2.06-.94-.94-2.06-.94 2.06-2.06.94z\"/><path d=\"M17.41 7.96l-1.37-1.37c-.4-.4-.92-.59-1.43-.59-.52 0-1.04.2-1.43.59L10.3 9.45l-7.72 7.72c-.78.78-.78 2.05 0 2.83L4 21.41c.39.39.9.59 1.41.59.51 0 1.02-.2 1.41-.59l7.78-7.78 2.81-2.81c.8-.78.8-2.07 0-2.86zM5.41 20L4 18.59l7.72-7.72 1.47 1.35L5.41 20z\"/>\n",
              "  </svg>\n",
              "      </button>\n",
              "      \n",
              "  <style>\n",
              "    .colab-df-container {\n",
              "      display:flex;\n",
              "      flex-wrap:wrap;\n",
              "      gap: 12px;\n",
              "    }\n",
              "\n",
              "    .colab-df-convert {\n",
              "      background-color: #E8F0FE;\n",
              "      border: none;\n",
              "      border-radius: 50%;\n",
              "      cursor: pointer;\n",
              "      display: none;\n",
              "      fill: #1967D2;\n",
              "      height: 32px;\n",
              "      padding: 0 0 0 0;\n",
              "      width: 32px;\n",
              "    }\n",
              "\n",
              "    .colab-df-convert:hover {\n",
              "      background-color: #E2EBFA;\n",
              "      box-shadow: 0px 1px 2px rgba(60, 64, 67, 0.3), 0px 1px 3px 1px rgba(60, 64, 67, 0.15);\n",
              "      fill: #174EA6;\n",
              "    }\n",
              "\n",
              "    [theme=dark] .colab-df-convert {\n",
              "      background-color: #3B4455;\n",
              "      fill: #D2E3FC;\n",
              "    }\n",
              "\n",
              "    [theme=dark] .colab-df-convert:hover {\n",
              "      background-color: #434B5C;\n",
              "      box-shadow: 0px 1px 3px 1px rgba(0, 0, 0, 0.15);\n",
              "      filter: drop-shadow(0px 1px 2px rgba(0, 0, 0, 0.3));\n",
              "      fill: #FFFFFF;\n",
              "    }\n",
              "  </style>\n",
              "\n",
              "      <script>\n",
              "        const buttonEl =\n",
              "          document.querySelector('#df-a1c39fb8-181e-4463-b25f-04ca296441f1 button.colab-df-convert');\n",
              "        buttonEl.style.display =\n",
              "          google.colab.kernel.accessAllowed ? 'block' : 'none';\n",
              "\n",
              "        async function convertToInteractive(key) {\n",
              "          const element = document.querySelector('#df-a1c39fb8-181e-4463-b25f-04ca296441f1');\n",
              "          const dataTable =\n",
              "            await google.colab.kernel.invokeFunction('convertToInteractive',\n",
              "                                                     [key], {});\n",
              "          if (!dataTable) return;\n",
              "\n",
              "          const docLinkHtml = 'Like what you see? Visit the ' +\n",
              "            '<a target=\"_blank\" href=https://colab.research.google.com/notebooks/data_table.ipynb>data table notebook</a>'\n",
              "            + ' to learn more about interactive tables.';\n",
              "          element.innerHTML = '';\n",
              "          dataTable['output_type'] = 'display_data';\n",
              "          await google.colab.output.renderOutput(dataTable, element);\n",
              "          const docLink = document.createElement('div');\n",
              "          docLink.innerHTML = docLinkHtml;\n",
              "          element.appendChild(docLink);\n",
              "        }\n",
              "      </script>\n",
              "    </div>\n",
              "  </div>\n",
              "  "
            ],
            "text/plain": [
              "                 date  bedrooms  bathrooms  ...     long  sqft_living15  sqft_lot15\n",
              "id                                          ...                                    \n",
              "7129300520 2014-10-13         3       1.00  ... -122.257           1340        5650\n",
              "6414100192 2014-12-09         3       2.25  ... -122.319           1690        7639\n",
              "5631500400 2015-02-25         2       1.00  ... -122.233           2720        8062\n",
              "2487200875 2014-12-09         4       3.00  ... -122.393           1360        5000\n",
              "1954400510 2015-02-18         3       2.00  ... -122.045           1800        7503\n",
              "...               ...       ...        ...  ...      ...            ...         ...\n",
              "263000018  2014-05-21         3       2.50  ... -122.346           1530        1509\n",
              "6600060120 2015-02-23         4       2.50  ... -122.362           1830        7200\n",
              "1523300141 2014-06-23         2       0.75  ... -122.299           1020        2007\n",
              "291310100  2015-01-16         3       2.50  ... -122.069           1410        1287\n",
              "1523300157 2014-10-15         2       0.75  ... -122.299           1020        1357\n",
              "\n",
              "[21613 rows x 19 columns]"
            ]
          },
          "metadata": {},
          "execution_count": 10
        }
      ],
      "source": [
        "X"
      ]
    },
    {
      "cell_type": "code",
      "execution_count": 11,
      "metadata": {
        "colab": {
          "base_uri": "https://localhost:8080/",
          "height": 455
        },
        "id": "KFfsrPNCNsBD",
        "outputId": "49d3b477-f403-4530-c70c-623404e5e26c"
      },
      "outputs": [
        {
          "output_type": "execute_result",
          "data": {
            "text/html": [
              "\n",
              "  <div id=\"df-d5678874-bf0d-48e4-b92a-5530663aa357\">\n",
              "    <div class=\"colab-df-container\">\n",
              "      <div>\n",
              "<style scoped>\n",
              "    .dataframe tbody tr th:only-of-type {\n",
              "        vertical-align: middle;\n",
              "    }\n",
              "\n",
              "    .dataframe tbody tr th {\n",
              "        vertical-align: top;\n",
              "    }\n",
              "\n",
              "    .dataframe thead th {\n",
              "        text-align: right;\n",
              "    }\n",
              "</style>\n",
              "<table border=\"1\" class=\"dataframe\">\n",
              "  <thead>\n",
              "    <tr style=\"text-align: right;\">\n",
              "      <th></th>\n",
              "      <th>price</th>\n",
              "    </tr>\n",
              "    <tr>\n",
              "      <th>id</th>\n",
              "      <th></th>\n",
              "    </tr>\n",
              "  </thead>\n",
              "  <tbody>\n",
              "    <tr>\n",
              "      <th>7129300520</th>\n",
              "      <td>221900.0</td>\n",
              "    </tr>\n",
              "    <tr>\n",
              "      <th>6414100192</th>\n",
              "      <td>538000.0</td>\n",
              "    </tr>\n",
              "    <tr>\n",
              "      <th>5631500400</th>\n",
              "      <td>180000.0</td>\n",
              "    </tr>\n",
              "    <tr>\n",
              "      <th>2487200875</th>\n",
              "      <td>604000.0</td>\n",
              "    </tr>\n",
              "    <tr>\n",
              "      <th>1954400510</th>\n",
              "      <td>510000.0</td>\n",
              "    </tr>\n",
              "    <tr>\n",
              "      <th>...</th>\n",
              "      <td>...</td>\n",
              "    </tr>\n",
              "    <tr>\n",
              "      <th>263000018</th>\n",
              "      <td>360000.0</td>\n",
              "    </tr>\n",
              "    <tr>\n",
              "      <th>6600060120</th>\n",
              "      <td>400000.0</td>\n",
              "    </tr>\n",
              "    <tr>\n",
              "      <th>1523300141</th>\n",
              "      <td>402101.0</td>\n",
              "    </tr>\n",
              "    <tr>\n",
              "      <th>291310100</th>\n",
              "      <td>400000.0</td>\n",
              "    </tr>\n",
              "    <tr>\n",
              "      <th>1523300157</th>\n",
              "      <td>325000.0</td>\n",
              "    </tr>\n",
              "  </tbody>\n",
              "</table>\n",
              "<p>21613 rows × 1 columns</p>\n",
              "</div>\n",
              "      <button class=\"colab-df-convert\" onclick=\"convertToInteractive('df-d5678874-bf0d-48e4-b92a-5530663aa357')\"\n",
              "              title=\"Convert this dataframe to an interactive table.\"\n",
              "              style=\"display:none;\">\n",
              "        \n",
              "  <svg xmlns=\"http://www.w3.org/2000/svg\" height=\"24px\"viewBox=\"0 0 24 24\"\n",
              "       width=\"24px\">\n",
              "    <path d=\"M0 0h24v24H0V0z\" fill=\"none\"/>\n",
              "    <path d=\"M18.56 5.44l.94 2.06.94-2.06 2.06-.94-2.06-.94-.94-2.06-.94 2.06-2.06.94zm-11 1L8.5 8.5l.94-2.06 2.06-.94-2.06-.94L8.5 2.5l-.94 2.06-2.06.94zm10 10l.94 2.06.94-2.06 2.06-.94-2.06-.94-.94-2.06-.94 2.06-2.06.94z\"/><path d=\"M17.41 7.96l-1.37-1.37c-.4-.4-.92-.59-1.43-.59-.52 0-1.04.2-1.43.59L10.3 9.45l-7.72 7.72c-.78.78-.78 2.05 0 2.83L4 21.41c.39.39.9.59 1.41.59.51 0 1.02-.2 1.41-.59l7.78-7.78 2.81-2.81c.8-.78.8-2.07 0-2.86zM5.41 20L4 18.59l7.72-7.72 1.47 1.35L5.41 20z\"/>\n",
              "  </svg>\n",
              "      </button>\n",
              "      \n",
              "  <style>\n",
              "    .colab-df-container {\n",
              "      display:flex;\n",
              "      flex-wrap:wrap;\n",
              "      gap: 12px;\n",
              "    }\n",
              "\n",
              "    .colab-df-convert {\n",
              "      background-color: #E8F0FE;\n",
              "      border: none;\n",
              "      border-radius: 50%;\n",
              "      cursor: pointer;\n",
              "      display: none;\n",
              "      fill: #1967D2;\n",
              "      height: 32px;\n",
              "      padding: 0 0 0 0;\n",
              "      width: 32px;\n",
              "    }\n",
              "\n",
              "    .colab-df-convert:hover {\n",
              "      background-color: #E2EBFA;\n",
              "      box-shadow: 0px 1px 2px rgba(60, 64, 67, 0.3), 0px 1px 3px 1px rgba(60, 64, 67, 0.15);\n",
              "      fill: #174EA6;\n",
              "    }\n",
              "\n",
              "    [theme=dark] .colab-df-convert {\n",
              "      background-color: #3B4455;\n",
              "      fill: #D2E3FC;\n",
              "    }\n",
              "\n",
              "    [theme=dark] .colab-df-convert:hover {\n",
              "      background-color: #434B5C;\n",
              "      box-shadow: 0px 1px 3px 1px rgba(0, 0, 0, 0.15);\n",
              "      filter: drop-shadow(0px 1px 2px rgba(0, 0, 0, 0.3));\n",
              "      fill: #FFFFFF;\n",
              "    }\n",
              "  </style>\n",
              "\n",
              "      <script>\n",
              "        const buttonEl =\n",
              "          document.querySelector('#df-d5678874-bf0d-48e4-b92a-5530663aa357 button.colab-df-convert');\n",
              "        buttonEl.style.display =\n",
              "          google.colab.kernel.accessAllowed ? 'block' : 'none';\n",
              "\n",
              "        async function convertToInteractive(key) {\n",
              "          const element = document.querySelector('#df-d5678874-bf0d-48e4-b92a-5530663aa357');\n",
              "          const dataTable =\n",
              "            await google.colab.kernel.invokeFunction('convertToInteractive',\n",
              "                                                     [key], {});\n",
              "          if (!dataTable) return;\n",
              "\n",
              "          const docLinkHtml = 'Like what you see? Visit the ' +\n",
              "            '<a target=\"_blank\" href=https://colab.research.google.com/notebooks/data_table.ipynb>data table notebook</a>'\n",
              "            + ' to learn more about interactive tables.';\n",
              "          element.innerHTML = '';\n",
              "          dataTable['output_type'] = 'display_data';\n",
              "          await google.colab.output.renderOutput(dataTable, element);\n",
              "          const docLink = document.createElement('div');\n",
              "          docLink.innerHTML = docLinkHtml;\n",
              "          element.appendChild(docLink);\n",
              "        }\n",
              "      </script>\n",
              "    </div>\n",
              "  </div>\n",
              "  "
            ],
            "text/plain": [
              "               price\n",
              "id                  \n",
              "7129300520  221900.0\n",
              "6414100192  538000.0\n",
              "5631500400  180000.0\n",
              "2487200875  604000.0\n",
              "1954400510  510000.0\n",
              "...              ...\n",
              "263000018   360000.0\n",
              "6600060120  400000.0\n",
              "1523300141  402101.0\n",
              "291310100   400000.0\n",
              "1523300157  325000.0\n",
              "\n",
              "[21613 rows x 1 columns]"
            ]
          },
          "metadata": {},
          "execution_count": 11
        }
      ],
      "source": [
        "y"
      ]
    },
    {
      "cell_type": "markdown",
      "metadata": {
        "id": "t9ZIKKinNsBD"
      },
      "source": [
        "По всей видимости, колонка `date` представляет собой дату добавления информации. Эта дата никак не соотносится с годами постройки дома `yr_built` и реновации дома `yr_renovated` соответственно. То есть колонка `date` вроде бы не должна особо коррелировать с ценой дома, но при этом значение в этой колонке монотонно возрастает от дома к дому, если расположить объекты в порядке добавления в таблицу. Это утечка, и она может дать ложную зависимость. Поэтому мы уберём эту колонку при разделении данных на обучающую и валидационную выборки, но оставим на всякий случай от даты добавления: число, месяц, день недели:"
      ]
    },
    {
      "cell_type": "code",
      "execution_count": 12,
      "metadata": {
        "id": "vIzmZSKxNsBD"
      },
      "outputs": [],
      "source": [
        "for feat in ['day', 'month', 'dayofweek']:\n",
        "    X[feat] = getattr(X['date'].dt, feat)"
      ]
    },
    {
      "cell_type": "code",
      "source": [
        "X"
      ],
      "metadata": {
        "colab": {
          "base_uri": "https://localhost:8080/",
          "height": 693
        },
        "id": "6jp1RaRvZdJ4",
        "outputId": "326fff36-e160-4a55-8b94-d252cdfe4ef5"
      },
      "execution_count": 13,
      "outputs": [
        {
          "output_type": "execute_result",
          "data": {
            "text/html": [
              "\n",
              "  <div id=\"df-ff4a1295-9786-4cc9-96ce-8271e9a0750d\">\n",
              "    <div class=\"colab-df-container\">\n",
              "      <div>\n",
              "<style scoped>\n",
              "    .dataframe tbody tr th:only-of-type {\n",
              "        vertical-align: middle;\n",
              "    }\n",
              "\n",
              "    .dataframe tbody tr th {\n",
              "        vertical-align: top;\n",
              "    }\n",
              "\n",
              "    .dataframe thead th {\n",
              "        text-align: right;\n",
              "    }\n",
              "</style>\n",
              "<table border=\"1\" class=\"dataframe\">\n",
              "  <thead>\n",
              "    <tr style=\"text-align: right;\">\n",
              "      <th></th>\n",
              "      <th>date</th>\n",
              "      <th>bedrooms</th>\n",
              "      <th>bathrooms</th>\n",
              "      <th>sqft_living</th>\n",
              "      <th>sqft_lot</th>\n",
              "      <th>floors</th>\n",
              "      <th>waterfront</th>\n",
              "      <th>view</th>\n",
              "      <th>condition</th>\n",
              "      <th>grade</th>\n",
              "      <th>sqft_above</th>\n",
              "      <th>sqft_basement</th>\n",
              "      <th>yr_built</th>\n",
              "      <th>yr_renovated</th>\n",
              "      <th>zipcode</th>\n",
              "      <th>lat</th>\n",
              "      <th>long</th>\n",
              "      <th>sqft_living15</th>\n",
              "      <th>sqft_lot15</th>\n",
              "      <th>day</th>\n",
              "      <th>month</th>\n",
              "      <th>dayofweek</th>\n",
              "    </tr>\n",
              "    <tr>\n",
              "      <th>id</th>\n",
              "      <th></th>\n",
              "      <th></th>\n",
              "      <th></th>\n",
              "      <th></th>\n",
              "      <th></th>\n",
              "      <th></th>\n",
              "      <th></th>\n",
              "      <th></th>\n",
              "      <th></th>\n",
              "      <th></th>\n",
              "      <th></th>\n",
              "      <th></th>\n",
              "      <th></th>\n",
              "      <th></th>\n",
              "      <th></th>\n",
              "      <th></th>\n",
              "      <th></th>\n",
              "      <th></th>\n",
              "      <th></th>\n",
              "      <th></th>\n",
              "      <th></th>\n",
              "      <th></th>\n",
              "    </tr>\n",
              "  </thead>\n",
              "  <tbody>\n",
              "    <tr>\n",
              "      <th>7129300520</th>\n",
              "      <td>2014-10-13</td>\n",
              "      <td>3</td>\n",
              "      <td>1.00</td>\n",
              "      <td>1180</td>\n",
              "      <td>5650</td>\n",
              "      <td>1.0</td>\n",
              "      <td>0</td>\n",
              "      <td>0</td>\n",
              "      <td>3</td>\n",
              "      <td>7</td>\n",
              "      <td>1180</td>\n",
              "      <td>0</td>\n",
              "      <td>1955</td>\n",
              "      <td>0</td>\n",
              "      <td>98178</td>\n",
              "      <td>47.5112</td>\n",
              "      <td>-122.257</td>\n",
              "      <td>1340</td>\n",
              "      <td>5650</td>\n",
              "      <td>13</td>\n",
              "      <td>10</td>\n",
              "      <td>0</td>\n",
              "    </tr>\n",
              "    <tr>\n",
              "      <th>6414100192</th>\n",
              "      <td>2014-12-09</td>\n",
              "      <td>3</td>\n",
              "      <td>2.25</td>\n",
              "      <td>2570</td>\n",
              "      <td>7242</td>\n",
              "      <td>2.0</td>\n",
              "      <td>0</td>\n",
              "      <td>0</td>\n",
              "      <td>3</td>\n",
              "      <td>7</td>\n",
              "      <td>2170</td>\n",
              "      <td>400</td>\n",
              "      <td>1951</td>\n",
              "      <td>1991</td>\n",
              "      <td>98125</td>\n",
              "      <td>47.7210</td>\n",
              "      <td>-122.319</td>\n",
              "      <td>1690</td>\n",
              "      <td>7639</td>\n",
              "      <td>9</td>\n",
              "      <td>12</td>\n",
              "      <td>1</td>\n",
              "    </tr>\n",
              "    <tr>\n",
              "      <th>5631500400</th>\n",
              "      <td>2015-02-25</td>\n",
              "      <td>2</td>\n",
              "      <td>1.00</td>\n",
              "      <td>770</td>\n",
              "      <td>10000</td>\n",
              "      <td>1.0</td>\n",
              "      <td>0</td>\n",
              "      <td>0</td>\n",
              "      <td>3</td>\n",
              "      <td>6</td>\n",
              "      <td>770</td>\n",
              "      <td>0</td>\n",
              "      <td>1933</td>\n",
              "      <td>0</td>\n",
              "      <td>98028</td>\n",
              "      <td>47.7379</td>\n",
              "      <td>-122.233</td>\n",
              "      <td>2720</td>\n",
              "      <td>8062</td>\n",
              "      <td>25</td>\n",
              "      <td>2</td>\n",
              "      <td>2</td>\n",
              "    </tr>\n",
              "    <tr>\n",
              "      <th>2487200875</th>\n",
              "      <td>2014-12-09</td>\n",
              "      <td>4</td>\n",
              "      <td>3.00</td>\n",
              "      <td>1960</td>\n",
              "      <td>5000</td>\n",
              "      <td>1.0</td>\n",
              "      <td>0</td>\n",
              "      <td>0</td>\n",
              "      <td>5</td>\n",
              "      <td>7</td>\n",
              "      <td>1050</td>\n",
              "      <td>910</td>\n",
              "      <td>1965</td>\n",
              "      <td>0</td>\n",
              "      <td>98136</td>\n",
              "      <td>47.5208</td>\n",
              "      <td>-122.393</td>\n",
              "      <td>1360</td>\n",
              "      <td>5000</td>\n",
              "      <td>9</td>\n",
              "      <td>12</td>\n",
              "      <td>1</td>\n",
              "    </tr>\n",
              "    <tr>\n",
              "      <th>1954400510</th>\n",
              "      <td>2015-02-18</td>\n",
              "      <td>3</td>\n",
              "      <td>2.00</td>\n",
              "      <td>1680</td>\n",
              "      <td>8080</td>\n",
              "      <td>1.0</td>\n",
              "      <td>0</td>\n",
              "      <td>0</td>\n",
              "      <td>3</td>\n",
              "      <td>8</td>\n",
              "      <td>1680</td>\n",
              "      <td>0</td>\n",
              "      <td>1987</td>\n",
              "      <td>0</td>\n",
              "      <td>98074</td>\n",
              "      <td>47.6168</td>\n",
              "      <td>-122.045</td>\n",
              "      <td>1800</td>\n",
              "      <td>7503</td>\n",
              "      <td>18</td>\n",
              "      <td>2</td>\n",
              "      <td>2</td>\n",
              "    </tr>\n",
              "    <tr>\n",
              "      <th>...</th>\n",
              "      <td>...</td>\n",
              "      <td>...</td>\n",
              "      <td>...</td>\n",
              "      <td>...</td>\n",
              "      <td>...</td>\n",
              "      <td>...</td>\n",
              "      <td>...</td>\n",
              "      <td>...</td>\n",
              "      <td>...</td>\n",
              "      <td>...</td>\n",
              "      <td>...</td>\n",
              "      <td>...</td>\n",
              "      <td>...</td>\n",
              "      <td>...</td>\n",
              "      <td>...</td>\n",
              "      <td>...</td>\n",
              "      <td>...</td>\n",
              "      <td>...</td>\n",
              "      <td>...</td>\n",
              "      <td>...</td>\n",
              "      <td>...</td>\n",
              "      <td>...</td>\n",
              "    </tr>\n",
              "    <tr>\n",
              "      <th>263000018</th>\n",
              "      <td>2014-05-21</td>\n",
              "      <td>3</td>\n",
              "      <td>2.50</td>\n",
              "      <td>1530</td>\n",
              "      <td>1131</td>\n",
              "      <td>3.0</td>\n",
              "      <td>0</td>\n",
              "      <td>0</td>\n",
              "      <td>3</td>\n",
              "      <td>8</td>\n",
              "      <td>1530</td>\n",
              "      <td>0</td>\n",
              "      <td>2009</td>\n",
              "      <td>0</td>\n",
              "      <td>98103</td>\n",
              "      <td>47.6993</td>\n",
              "      <td>-122.346</td>\n",
              "      <td>1530</td>\n",
              "      <td>1509</td>\n",
              "      <td>21</td>\n",
              "      <td>5</td>\n",
              "      <td>2</td>\n",
              "    </tr>\n",
              "    <tr>\n",
              "      <th>6600060120</th>\n",
              "      <td>2015-02-23</td>\n",
              "      <td>4</td>\n",
              "      <td>2.50</td>\n",
              "      <td>2310</td>\n",
              "      <td>5813</td>\n",
              "      <td>2.0</td>\n",
              "      <td>0</td>\n",
              "      <td>0</td>\n",
              "      <td>3</td>\n",
              "      <td>8</td>\n",
              "      <td>2310</td>\n",
              "      <td>0</td>\n",
              "      <td>2014</td>\n",
              "      <td>0</td>\n",
              "      <td>98146</td>\n",
              "      <td>47.5107</td>\n",
              "      <td>-122.362</td>\n",
              "      <td>1830</td>\n",
              "      <td>7200</td>\n",
              "      <td>23</td>\n",
              "      <td>2</td>\n",
              "      <td>0</td>\n",
              "    </tr>\n",
              "    <tr>\n",
              "      <th>1523300141</th>\n",
              "      <td>2014-06-23</td>\n",
              "      <td>2</td>\n",
              "      <td>0.75</td>\n",
              "      <td>1020</td>\n",
              "      <td>1350</td>\n",
              "      <td>2.0</td>\n",
              "      <td>0</td>\n",
              "      <td>0</td>\n",
              "      <td>3</td>\n",
              "      <td>7</td>\n",
              "      <td>1020</td>\n",
              "      <td>0</td>\n",
              "      <td>2009</td>\n",
              "      <td>0</td>\n",
              "      <td>98144</td>\n",
              "      <td>47.5944</td>\n",
              "      <td>-122.299</td>\n",
              "      <td>1020</td>\n",
              "      <td>2007</td>\n",
              "      <td>23</td>\n",
              "      <td>6</td>\n",
              "      <td>0</td>\n",
              "    </tr>\n",
              "    <tr>\n",
              "      <th>291310100</th>\n",
              "      <td>2015-01-16</td>\n",
              "      <td>3</td>\n",
              "      <td>2.50</td>\n",
              "      <td>1600</td>\n",
              "      <td>2388</td>\n",
              "      <td>2.0</td>\n",
              "      <td>0</td>\n",
              "      <td>0</td>\n",
              "      <td>3</td>\n",
              "      <td>8</td>\n",
              "      <td>1600</td>\n",
              "      <td>0</td>\n",
              "      <td>2004</td>\n",
              "      <td>0</td>\n",
              "      <td>98027</td>\n",
              "      <td>47.5345</td>\n",
              "      <td>-122.069</td>\n",
              "      <td>1410</td>\n",
              "      <td>1287</td>\n",
              "      <td>16</td>\n",
              "      <td>1</td>\n",
              "      <td>4</td>\n",
              "    </tr>\n",
              "    <tr>\n",
              "      <th>1523300157</th>\n",
              "      <td>2014-10-15</td>\n",
              "      <td>2</td>\n",
              "      <td>0.75</td>\n",
              "      <td>1020</td>\n",
              "      <td>1076</td>\n",
              "      <td>2.0</td>\n",
              "      <td>0</td>\n",
              "      <td>0</td>\n",
              "      <td>3</td>\n",
              "      <td>7</td>\n",
              "      <td>1020</td>\n",
              "      <td>0</td>\n",
              "      <td>2008</td>\n",
              "      <td>0</td>\n",
              "      <td>98144</td>\n",
              "      <td>47.5941</td>\n",
              "      <td>-122.299</td>\n",
              "      <td>1020</td>\n",
              "      <td>1357</td>\n",
              "      <td>15</td>\n",
              "      <td>10</td>\n",
              "      <td>2</td>\n",
              "    </tr>\n",
              "  </tbody>\n",
              "</table>\n",
              "<p>21613 rows × 22 columns</p>\n",
              "</div>\n",
              "      <button class=\"colab-df-convert\" onclick=\"convertToInteractive('df-ff4a1295-9786-4cc9-96ce-8271e9a0750d')\"\n",
              "              title=\"Convert this dataframe to an interactive table.\"\n",
              "              style=\"display:none;\">\n",
              "        \n",
              "  <svg xmlns=\"http://www.w3.org/2000/svg\" height=\"24px\"viewBox=\"0 0 24 24\"\n",
              "       width=\"24px\">\n",
              "    <path d=\"M0 0h24v24H0V0z\" fill=\"none\"/>\n",
              "    <path d=\"M18.56 5.44l.94 2.06.94-2.06 2.06-.94-2.06-.94-.94-2.06-.94 2.06-2.06.94zm-11 1L8.5 8.5l.94-2.06 2.06-.94-2.06-.94L8.5 2.5l-.94 2.06-2.06.94zm10 10l.94 2.06.94-2.06 2.06-.94-2.06-.94-.94-2.06-.94 2.06-2.06.94z\"/><path d=\"M17.41 7.96l-1.37-1.37c-.4-.4-.92-.59-1.43-.59-.52 0-1.04.2-1.43.59L10.3 9.45l-7.72 7.72c-.78.78-.78 2.05 0 2.83L4 21.41c.39.39.9.59 1.41.59.51 0 1.02-.2 1.41-.59l7.78-7.78 2.81-2.81c.8-.78.8-2.07 0-2.86zM5.41 20L4 18.59l7.72-7.72 1.47 1.35L5.41 20z\"/>\n",
              "  </svg>\n",
              "      </button>\n",
              "      \n",
              "  <style>\n",
              "    .colab-df-container {\n",
              "      display:flex;\n",
              "      flex-wrap:wrap;\n",
              "      gap: 12px;\n",
              "    }\n",
              "\n",
              "    .colab-df-convert {\n",
              "      background-color: #E8F0FE;\n",
              "      border: none;\n",
              "      border-radius: 50%;\n",
              "      cursor: pointer;\n",
              "      display: none;\n",
              "      fill: #1967D2;\n",
              "      height: 32px;\n",
              "      padding: 0 0 0 0;\n",
              "      width: 32px;\n",
              "    }\n",
              "\n",
              "    .colab-df-convert:hover {\n",
              "      background-color: #E2EBFA;\n",
              "      box-shadow: 0px 1px 2px rgba(60, 64, 67, 0.3), 0px 1px 3px 1px rgba(60, 64, 67, 0.15);\n",
              "      fill: #174EA6;\n",
              "    }\n",
              "\n",
              "    [theme=dark] .colab-df-convert {\n",
              "      background-color: #3B4455;\n",
              "      fill: #D2E3FC;\n",
              "    }\n",
              "\n",
              "    [theme=dark] .colab-df-convert:hover {\n",
              "      background-color: #434B5C;\n",
              "      box-shadow: 0px 1px 3px 1px rgba(0, 0, 0, 0.15);\n",
              "      filter: drop-shadow(0px 1px 2px rgba(0, 0, 0, 0.3));\n",
              "      fill: #FFFFFF;\n",
              "    }\n",
              "  </style>\n",
              "\n",
              "      <script>\n",
              "        const buttonEl =\n",
              "          document.querySelector('#df-ff4a1295-9786-4cc9-96ce-8271e9a0750d button.colab-df-convert');\n",
              "        buttonEl.style.display =\n",
              "          google.colab.kernel.accessAllowed ? 'block' : 'none';\n",
              "\n",
              "        async function convertToInteractive(key) {\n",
              "          const element = document.querySelector('#df-ff4a1295-9786-4cc9-96ce-8271e9a0750d');\n",
              "          const dataTable =\n",
              "            await google.colab.kernel.invokeFunction('convertToInteractive',\n",
              "                                                     [key], {});\n",
              "          if (!dataTable) return;\n",
              "\n",
              "          const docLinkHtml = 'Like what you see? Visit the ' +\n",
              "            '<a target=\"_blank\" href=https://colab.research.google.com/notebooks/data_table.ipynb>data table notebook</a>'\n",
              "            + ' to learn more about interactive tables.';\n",
              "          element.innerHTML = '';\n",
              "          dataTable['output_type'] = 'display_data';\n",
              "          await google.colab.output.renderOutput(dataTable, element);\n",
              "          const docLink = document.createElement('div');\n",
              "          docLink.innerHTML = docLinkHtml;\n",
              "          element.appendChild(docLink);\n",
              "        }\n",
              "      </script>\n",
              "    </div>\n",
              "  </div>\n",
              "  "
            ],
            "text/plain": [
              "                 date  bedrooms  bathrooms  ...  day  month  dayofweek\n",
              "id                                          ...                       \n",
              "7129300520 2014-10-13         3       1.00  ...   13     10          0\n",
              "6414100192 2014-12-09         3       2.25  ...    9     12          1\n",
              "5631500400 2015-02-25         2       1.00  ...   25      2          2\n",
              "2487200875 2014-12-09         4       3.00  ...    9     12          1\n",
              "1954400510 2015-02-18         3       2.00  ...   18      2          2\n",
              "...               ...       ...        ...  ...  ...    ...        ...\n",
              "263000018  2014-05-21         3       2.50  ...   21      5          2\n",
              "6600060120 2015-02-23         4       2.50  ...   23      2          0\n",
              "1523300141 2014-06-23         2       0.75  ...   23      6          0\n",
              "291310100  2015-01-16         3       2.50  ...   16      1          4\n",
              "1523300157 2014-10-15         2       0.75  ...   15     10          2\n",
              "\n",
              "[21613 rows x 22 columns]"
            ]
          },
          "metadata": {},
          "execution_count": 13
        }
      ]
    },
    {
      "cell_type": "markdown",
      "metadata": {
        "id": "R7oT4Qe7NsBE"
      },
      "source": [
        "Разделяем данные на обучающую и валидационную выборки в соотношении 80 на 20 соответственно:"
      ]
    },
    {
      "cell_type": "code",
      "execution_count": 14,
      "metadata": {
        "id": "P6osuy00NsBE"
      },
      "outputs": [],
      "source": [
        "X_train, X_val, y_train, y_val = train_test_split(\n",
        "    X.drop(columns='date').to_numpy(),\n",
        "    y.to_numpy().ravel(),\n",
        "    shuffle=True, test_size=0.2, random_state=555)"
      ]
    },
    {
      "cell_type": "markdown",
      "metadata": {
        "id": "OfeoNhy-NsBF"
      },
      "source": [
        "Итак, в выборке 21 признак."
      ]
    },
    {
      "cell_type": "markdown",
      "metadata": {
        "id": "kOExq_99NsBF"
      },
      "source": [
        "## 2. Случайный лес"
      ]
    },
    {
      "cell_type": "markdown",
      "metadata": {
        "id": "V65OlzkvNsBF"
      },
      "source": [
        "Изучим зависимость **RMSE** на отложенной выборке\n",
        "и **время работы алгоритма** в зависимости от следующих факторов:\n",
        "* количество деревьев в ансамбле (`n_estimators`) $-$ значение по умолчанию не задано\n",
        "* размерность подвыборки признаков для одного дерева (`feature_subsample_size`) $-$ по умолчанию, `n // 3`, где n $-$ число признаков выборки\n",
        "* максимальная глубина дерева (`max_depth`) $-$ по умолчанию, глубина построения решающего дерева не ограничена\n"
      ]
    },
    {
      "cell_type": "markdown",
      "metadata": {
        "id": "H-8jaWJjNsBG"
      },
      "source": [
        "### Зависимость модели от `n_estimators`"
      ]
    },
    {
      "cell_type": "markdown",
      "metadata": {
        "id": "4DrJAud_NsBG"
      },
      "source": [
        "Обучаем модель и получаем значения функции потерь на обучении и на валидации для ансамблей с количеством деревьев от $1$ до $n\\_estimators$. Найдём наилучшее значение n_estimators, рассмотрим количество деревьев до 1000 включительно:"
      ]
    },
    {
      "cell_type": "code",
      "execution_count": 15,
      "metadata": {
        "colab": {
          "base_uri": "https://localhost:8080/"
        },
        "id": "pl25cJ6vNsBG",
        "outputId": "4d6487e7-0e75-4dfb-8d01-78677470c21f"
      },
      "outputs": [
        {
          "output_type": "stream",
          "name": "stdout",
          "text": [
            "CPU times: user 1min 45s, sys: 1.43 s, total: 1min 46s\n",
            "Wall time: 1min 46s\n"
          ]
        }
      ],
      "source": [
        "%%time\n",
        "n_estimators_max = 1000\n",
        "model = RandomForestMSE(n_estimators=n_estimators_max, random_state=0)\n",
        "train_loss, val_loss = model.fit(X=X_train, y=y_train,\n",
        "                                 X_val=X_val, y_val=y_val,\n",
        "                                 return_train_loss=True,\n",
        "                                 return_val_loss=True)\n",
        "np.save(bin_dir + 'RF_n_estimators_train_RMSE', train_loss, allow_pickle=False)\n",
        "np.save(bin_dir + 'RF_n_estimators_val_RMSE', val_loss, allow_pickle=False)"
      ]
    },
    {
      "cell_type": "code",
      "source": [
        "train_loss = np.load(bin_dir + 'RF_n_estimators_train_RMSE.npy',\n",
        "                     allow_pickle=False)\n",
        "val_loss = np.load(bin_dir + 'RF_n_estimators_val_RMSE.npy',\n",
        "                   allow_pickle=False)"
      ],
      "metadata": {
        "id": "Uc8iRNabFmeh"
      },
      "execution_count": 16,
      "outputs": []
    },
    {
      "cell_type": "markdown",
      "metadata": {
        "id": "hIIKtYGhNsBG"
      },
      "source": [
        "Строим график по полученным значениям функций потерь:"
      ]
    },
    {
      "cell_type": "code",
      "execution_count": 17,
      "metadata": {
        "colab": {
          "base_uri": "https://localhost:8080/",
          "height": 296
        },
        "id": "j3RToLwPNsBG",
        "outputId": "965492c8-f270-41b2-83ba-38abd74309f1"
      },
      "outputs": [
        {
          "output_type": "display_data",
          "data": {
            "image/png": "[encoded data removed]",
            "text/plain": [
              "<Figure size 720x288 with 1 Axes>"
            ]
          },
          "metadata": {
            "needs_background": "light"
          }
        }
      ],
      "source": [
        "plt.figure(figsize=(10, 4))\n",
        "plt.title('Loss on train and validation')\n",
        "max_x = 1000\n",
        "eps_lim = 20\n",
        "x_arr = np.arange(1, max_x + 1)\n",
        "plt.plot(x_arr, train_loss, label='train')\n",
        "plt.plot(x_arr, val_loss, label='validation')\n",
        "plt.xlim((-eps_lim, max_x + eps_lim))\n",
        "plt.xlabel('n_estimators')\n",
        "plt.ylabel('RMSE')\n",
        "\n",
        "# optimal x\n",
        "opt_arg = val_loss.argmin() + 1\n",
        "plt.scatter(opt_arg, val_loss[opt_arg - 1], marker='o',\n",
        "            c=opt_color, zorder=3, label='optimal')\n",
        "\n",
        "plt.legend()\n",
        "plt.savefig(graph_dir + 'RF_n_estimators_RMSE')"
      ]
    },
    {
      "cell_type": "code",
      "execution_count": 18,
      "metadata": {
        "colab": {
          "base_uri": "https://localhost:8080/"
        },
        "id": "OYUinHfLNsBH",
        "outputId": "d184d1fa-5f11-4eab-d7b8-cc27980e01e5"
      },
      "outputs": [
        {
          "output_type": "stream",
          "name": "stdout",
          "text": [
            "optimal n_estimators = 168, RMSE on optimal n_estimators = 120361.83460060255\n"
          ]
        }
      ],
      "source": [
        "print(f'optimal n_estimators = {opt_arg}, RMSE on optimal n_estimators = {val_loss[opt_arg - 1]}')"
      ]
    },
    {
      "cell_type": "markdown",
      "metadata": {
        "id": "x2Q-RoliNsBH"
      },
      "source": [
        "Получили, что оптимальное число деревьев $=168$. Далее потери на валидации возрастают, начинается переобучение."
      ]
    },
    {
      "cell_type": "code",
      "source": [
        "n_estimators_opt = opt_arg"
      ],
      "metadata": {
        "id": "u0-t6qEhqlY2"
      },
      "execution_count": 19,
      "outputs": []
    },
    {
      "cell_type": "markdown",
      "source": [
        "Теперь исследуем зависимость времени обучения алгоритма от $n\\_estimators$ (возмём с небольшим запасом после оптимального количества). Время будем усреднять за 3 итерации:"
      ],
      "metadata": {
        "id": "UIWHes94QB8a"
      }
    },
    {
      "cell_type": "code",
      "source": [
        "n_estimators_arr = [1] + list(range(30, 271, 30))\n",
        "time_arr = []\n",
        "k = 3\n",
        "for n_estimators in tqdm(n_estimators_arr):\n",
        "    time_ = 0\n",
        "    for i in range(k):\n",
        "        start_time = time.time()\n",
        "        model = RandomForestMSE(n_estimators=n_estimators, random_state=0)\n",
        "        model.fit(X_train, y_train)\n",
        "        time_ += time.time() - start_time\n",
        "    time_arr.append(time_ / k)\n",
        "np.save(bin_dir + 'RF_n_estimators_time', time_arr, allow_pickle=False)"
      ],
      "metadata": {
        "colab": {
          "base_uri": "https://localhost:8080/"
        },
        "id": "jhaXRaVtQYAx",
        "outputId": "732a5e17-e474-4702-b3e8-0c525996197f"
      },
      "execution_count": 20,
      "outputs": [
        {
          "output_type": "stream",
          "name": "stderr",
          "text": [
            "100%|██████████| 10/10 [06:26<00:00, 38.63s/it]\n"
          ]
        }
      ]
    },
    {
      "cell_type": "code",
      "source": [
        "time_arr = np.load(bin_dir + 'RF_n_estimators_time.npy', allow_pickle=False)"
      ],
      "metadata": {
        "id": "FDknYl3yK0Aw"
      },
      "execution_count": 21,
      "outputs": []
    },
    {
      "cell_type": "code",
      "source": [
        "plt.figure(figsize=(10, 4))\n",
        "max_x = 250\n",
        "eps_lim = 5\n",
        "plt.plot(n_estimators_arr, time_arr, marker='o', c='b')\n",
        "plt.xlim((-eps_lim, max_x + eps_lim))\n",
        "plt.xlabel('n_estimators')\n",
        "plt.ylabel('time, s')\n",
        "plt.title('Training time')\n",
        "plt.savefig(graph_dir + 'RF_n_estimators_time')"
      ],
      "metadata": {
        "colab": {
          "base_uri": "https://localhost:8080/",
          "height": 296
        },
        "id": "Zr4mb8MzY7Rf",
        "outputId": "75c94f84-c105-4128-b2b6-d45900f401d9"
      },
      "execution_count": 22,
      "outputs": [
        {
          "output_type": "display_data",
          "data": {
            "image/png": "[encoded data removed]",
            "text/plain": [
              "<Figure size 720x288 with 1 Axes>"
            ]
          },
          "metadata": {
            "needs_background": "light"
          }
        }
      ]
    },
    {
      "cell_type": "markdown",
      "source": [
        "Как видно по графику, время обучения линейно зависит от числа деревьев в ансамбле (интуитивно понятно)."
      ],
      "metadata": {
        "id": "cgJb839sZsSs"
      }
    },
    {
      "cell_type": "markdown",
      "source": [
        "### Зависимость модели от `feature_subsample_size`"
      ],
      "metadata": {
        "id": "X0JukJvxd9Gu"
      }
    },
    {
      "cell_type": "markdown",
      "source": [
        "Здесь мы, в отличие от случая с количеством деревьев, должны пройтись по сетке количества  признаков для одного дерева (от 1 до всех признаков выборки) и посчитать на каждом: время обучения, потери на обучении и потери на валидации. Сделаем это в цикле:"
      ],
      "metadata": {
        "id": "pAK9KIVkrOLx"
      }
    },
    {
      "cell_type": "code",
      "source": [
        "time_arr, train_loss, val_loss = [], [], []\n",
        "max_features_arr = list(range(1, X_train.shape[1] + 1))\n",
        "k = 3\n",
        "for max_features in tqdm(max_features_arr):\n",
        "    time_ = 0\n",
        "    for i in range(k):\n",
        "        start_time = time.time()\n",
        "        model = RandomForestMSE(n_estimators=n_estimators_opt, random_state=0,\n",
        "                            feature_subsample_size=max_features)\n",
        "        model.fit(X_train, y_train)\n",
        "        time_ += time.time() - start_time\n",
        "    time_arr.append(time_ / k)\n",
        "    train_loss.append(RMSE(y_train, model.predict(X_train)))\n",
        "    val_loss.append(RMSE(y_val, model.predict(X_val)))\n",
        "np.save(bin_dir + 'RF_feature_subsample_size_train_RMSE', train_loss, allow_pickle=False)\n",
        "np.save(bin_dir + 'RF_feature_subsample_size_val_RMSE', val_loss, allow_pickle=False)\n",
        "np.save(bin_dir + 'RF_feature_subsample_size_time', time_arr, allow_pickle=False)"
      ],
      "metadata": {
        "colab": {
          "base_uri": "https://localhost:8080/"
        },
        "id": "EyH2BcY4e378",
        "outputId": "57805a65-632d-4a43-c2ff-70e2a4e839a9"
      },
      "execution_count": 23,
      "outputs": [
        {
          "output_type": "stream",
          "name": "stderr",
          "text": [
            "100%|██████████| 21/21 [25:04<00:00, 71.63s/it] \n"
          ]
        }
      ]
    },
    {
      "cell_type": "code",
      "source": [
        "train_loss = np.load(bin_dir + 'RF_feature_subsample_size_train_RMSE.npy', allow_pickle=False)\n",
        "val_loss = np.load(bin_dir + 'RF_feature_subsample_size_val_RMSE.npy', allow_pickle=False)\n",
        "time_arr = np.load(bin_dir + 'RF_feature_subsample_size_time.npy', allow_pickle=False)"
      ],
      "metadata": {
        "id": "HH5_Gl2pLVyg"
      },
      "execution_count": 24,
      "outputs": []
    },
    {
      "cell_type": "markdown",
      "source": [
        "По рассчитанным значениям строим график для RMSE:"
      ],
      "metadata": {
        "id": "dRMYLUG4_KHs"
      }
    },
    {
      "cell_type": "code",
      "source": [
        "plt.figure(figsize=(10, 4))\n",
        "plt.title('Loss on train and validation')\n",
        "max_x = X.shape[1]\n",
        "eps_lim = 0.5\n",
        "plt.plot(max_features_arr, train_loss, label='train', marker='o')\n",
        "plt.plot(max_features_arr, val_loss, label='validation', marker='o')\n",
        "plt.xticks(ticks=max_features_arr, labels=max_features_arr)\n",
        "plt.xlim((eps_lim, max_x + eps_lim))\n",
        "plt.xlabel('feature_subsample_size')\n",
        "plt.ylabel('RMSE')\n",
        "\n",
        "# optimal x\n",
        "opt_arg = np.array(val_loss).argmin() + 1\n",
        "plt.scatter(opt_arg, val_loss[opt_arg - 1], marker='o',\n",
        "            c=opt_color, zorder=3, label='optimal')\n",
        "\n",
        "plt.legend()\n",
        "plt.savefig(graph_dir + 'RF_feature_subsample_size_RMSE')"
      ],
      "metadata": {
        "colab": {
          "base_uri": "https://localhost:8080/",
          "height": 296
        },
        "id": "ZHk1OOOFvgvO",
        "outputId": "39205175-f050-482a-89f5-0b87e5ff0db5"
      },
      "execution_count": 25,
      "outputs": [
        {
          "output_type": "display_data",
          "data": {
            "image/png": "[encoded data removed]",
            "text/plain": [
              "<Figure size 720x288 with 1 Axes>"
            ]
          },
          "metadata": {
            "needs_background": "light"
          }
        }
      ]
    },
    {
      "cell_type": "markdown",
      "source": [
        "Обычно для регрессии берётся треть признаков, но в нашем случае это 12 из 21 признаков, то есть $\\approx0.52$ от общего числа признаков дерева"
      ],
      "metadata": {
        "id": "MFL9F-Av-jis"
      }
    },
    {
      "cell_type": "code",
      "source": [
        "feature_subsample_size_opt = opt_arg"
      ],
      "metadata": {
        "id": "y9FAhnZX-7CB"
      },
      "execution_count": 26,
      "outputs": []
    },
    {
      "cell_type": "markdown",
      "source": [
        "По рассчитанным значениям строим график для времени обучения алгоритма:"
      ],
      "metadata": {
        "id": "mVudsNG6AjJ0"
      }
    },
    {
      "cell_type": "code",
      "source": [
        "plt.figure(figsize=(10, 4))\n",
        "max_x = 21\n",
        "eps_lim = 0.5\n",
        "plt.plot(max_features_arr, time_arr, marker='o', c='b')\n",
        "plt.xticks(ticks=max_features_arr, labels=max_features_arr)\n",
        "plt.xlim((eps_lim, max_x + eps_lim))\n",
        "plt.xlabel('n_estimators')\n",
        "plt.ylabel('time, s')\n",
        "plt.title('Training time')\n",
        "plt.savefig(graph_dir + 'RF_feature_subsample_size_time')"
      ],
      "metadata": {
        "colab": {
          "base_uri": "https://localhost:8080/",
          "height": 296
        },
        "id": "DF0vNq6Jyp3q",
        "outputId": "dccaa81c-1183-4751-cf25-589f0980ef16"
      },
      "execution_count": 27,
      "outputs": [
        {
          "output_type": "display_data",
          "data": {
            "image/png": "[encoded data removed]",
            "text/plain": [
              "<Figure size 720x288 with 1 Axes>"
            ]
          },
          "metadata": {
            "needs_background": "light"
          }
        }
      ]
    },
    {
      "cell_type": "markdown",
      "source": [
        "### Зависимость модели от `max_depth`"
      ],
      "metadata": {
        "id": "EMF0A80EAI2i"
      }
    },
    {
      "cell_type": "code",
      "source": [
        "time_arr, train_loss, val_loss = [], [], []\n",
        "max_depths = list(range(1, 25)) + [None]\n",
        "k = 3\n",
        "for max_depth in tqdm(max_depths):\n",
        "    time_ = 0\n",
        "    for i in range(k):\n",
        "        start_time = time.time()\n",
        "        model = RandomForestMSE(n_estimators=n_estimators_opt, random_state=0,\n",
        "                            feature_subsample_size=feature_subsample_size_opt,\n",
        "                            max_depth=max_depth)\n",
        "        model.fit(X_train, y_train)\n",
        "        time_ += time.time() - start_time\n",
        "    time_arr.append(time_ / k)\n",
        "    train_loss.append(RMSE(y_train, model.predict(X_train)))\n",
        "    val_loss.append(RMSE(y_val, model.predict(X_val)))\n",
        "np.save(bin_dir + 'RF_max_depth_train_RMSE', train_loss, allow_pickle=False)\n",
        "np.save(bin_dir + 'RF_max_depth_val_RMSE', val_loss, allow_pickle=False)\n",
        "np.save(bin_dir + 'RF_max_depth_time', time_arr, allow_pickle=False)"
      ],
      "metadata": {
        "id": "idkaBPDn96NO",
        "colab": {
          "base_uri": "https://localhost:8080/"
        },
        "outputId": "b116b318-d3b8-4607-9f33-566928201932"
      },
      "execution_count": 28,
      "outputs": [
        {
          "output_type": "stream",
          "name": "stderr",
          "text": [
            "100%|██████████| 25/25 [20:59<00:00, 50.37s/it]\n"
          ]
        }
      ]
    },
    {
      "cell_type": "code",
      "source": [
        "train_loss = np.load(bin_dir + 'RF_max_depth_train_RMSE.npy', allow_pickle=False)\n",
        "val_loss = np.load(bin_dir + 'RF_max_depth_val_RMSE.npy', allow_pickle=False)\n",
        "time_arr = np.load(bin_dir + 'RF_max_depth_time.npy', allow_pickle=False)"
      ],
      "metadata": {
        "id": "_hSPGLiEOQG_"
      },
      "execution_count": 29,
      "outputs": []
    },
    {
      "cell_type": "code",
      "source": [
        "plt.figure(figsize=(10, 4))\n",
        "plt.title('Loss on train and validation')\n",
        "max_x = 24\n",
        "gap = 2\n",
        "eps_lim = 0.5\n",
        "x_arr = max_depths[:-1]+[max_x + gap]\n",
        "plt.plot(x_arr, train_loss, label='train', marker='o')\n",
        "plt.plot(x_arr, val_loss, label='validation', marker='o')\n",
        "plt.xticks(ticks=x_arr, labels=max_depths[:-1] + ['unlim'])\n",
        "plt.xlim((eps_lim, max_x + eps_lim + gap))\n",
        "plt.xlabel('max_depth')\n",
        "plt.ylabel('RMSE')\n",
        "\n",
        "# optimal x\n",
        "opt_arg = np.array(val_loss).argmin()\n",
        "plt.scatter(x_arr[opt_arg], val_loss[opt_arg], marker='o',\n",
        "            c=opt_color, zorder=3, label='optimal')\n",
        "\n",
        "plt.legend()\n",
        "plt.savefig(graph_dir + 'RF_max_depth_RMSE')"
      ],
      "metadata": {
        "colab": {
          "base_uri": "https://localhost:8080/",
          "height": 296
        },
        "id": "qdHuOMfgCX_8",
        "outputId": "28f339d8-3852-44d5-cc41-49fca91a5f96"
      },
      "execution_count": 30,
      "outputs": [
        {
          "output_type": "display_data",
          "data": {
            "image/png": "[encoded data removed]",
            "text/plain": [
              "<Figure size 720x288 with 1 Axes>"
            ]
          },
          "metadata": {
            "needs_background": "light"
          }
        }
      ]
    },
    {
      "cell_type": "markdown",
      "source": [
        "По графику видно, что потери на валидации падают до достаточного уровня примерно после $max\\_depth > 15$, так что можно ограничить глубину для экономии времени (график обучения ниже)\n",
        "Но в нашем случае оставляем оптимальное значение $-$ глубина неограничена:"
      ],
      "metadata": {
        "id": "Sr6e-AcLYg9a"
      }
    },
    {
      "cell_type": "code",
      "source": [
        "max_depth_opt = max_depths[opt_arg]"
      ],
      "metadata": {
        "id": "gZms1vWraLG3"
      },
      "execution_count": 31,
      "outputs": []
    },
    {
      "cell_type": "code",
      "source": [
        "plt.figure(figsize=(10, 4))\n",
        "plt.title('Training time')\n",
        "max_x = 24\n",
        "gap = 2\n",
        "eps_lim = 0.5\n",
        "x_arr = max_depths[:-1]+[max_x + gap]\n",
        "plt.plot(x_arr, time_arr, marker='o', c='b')\n",
        "plt.xticks(ticks=x_arr, labels=max_depths[:-1]+ ['unlim'])\n",
        "plt.xlim((eps_lim, max_x + gap + eps_lim))\n",
        "plt.xlabel('max_depth')\n",
        "plt.ylabel('time, s')\n",
        "plt.savefig(graph_dir + 'RF_max_depth_time')"
      ],
      "metadata": {
        "colab": {
          "base_uri": "https://localhost:8080/",
          "height": 296
        },
        "id": "At22IEzZCbt4",
        "outputId": "201807d2-91c1-4afc-b9db-00ee57798130"
      },
      "execution_count": 32,
      "outputs": [
        {
          "output_type": "display_data",
          "data": {
            "image/png": "[encoded data removed]",
            "text/plain": [
              "<Figure size 720x288 with 1 Axes>"
            ]
          },
          "metadata": {
            "needs_background": "light"
          }
        }
      ]
    },
    {
      "cell_type": "markdown",
      "metadata": {
        "id": "Oput6e3kNsBH"
      },
      "source": [
        "## 3. Градиентный бустинг"
      ]
    },
    {
      "cell_type": "markdown",
      "source": [
        "Изучим зависимость RMSE на отложенной\n",
        "выборке и время работы алгоритма в зависимости от следующих факторов:\n",
        "* количество деревьев в ансамбле (`n_estimators`) $-$ значение по уиолчанию не задано\n",
        "* размерность подвыборки признаков для одного дерева (`feature_subsample_size`) $-$ по умолчанию, `n // 3`, где n $-$ число признаков выборки\n",
        "* максимальная глубина дерева (`max_depth`) $-$ по умолчанию, глубина $=5$, также рассматривается случай, когда она неограничена\n",
        "* темп обучения (`learning_rate`) (каждый новый алгоритм добавляется в композицию с коэффициентом $\\alpha~ \\cdot$ `learning_rate`) $-$ по умолчанию, темп обучения $=0.1$"
      ],
      "metadata": {
        "id": "hKe564K7aqC4"
      }
    },
    {
      "cell_type": "markdown",
      "source": [
        "Итак:\n",
        "1. На одном графике мы можем исследовать зависимость $RMSE$ от `n_estimators` на одной выборке, при этом перебирая `learning_rate`. Сделаем так для обучающей и валидационной выборок, после чего замерим время обучения на деревьях в количестве от 1 до {чуть больше оптимального значения}\n",
        "2. Следующий по важности параметр для подбора $-$ максимальная глубина дерева. Нас интересуют неглубокие деревья, поэтому ограничимся перебором глубины $<10$\n",
        "3. Далее перебираем размерность подвыборки признаков для одного дерева, от $1$ до общего числа признаков в выборке"
      ],
      "metadata": {
        "id": "gzfWoEhGfYdo"
      }
    },
    {
      "cell_type": "markdown",
      "source": [
        "### Зависимость модели от `n_estimators` и от `learning_rate`"
      ],
      "metadata": {
        "id": "Pv_B5trcuMr4"
      }
    },
    {
      "cell_type": "markdown",
      "source": [
        "Обучаем модель и получаем значения функции потерь на обучении и на валидации для ансамблей с количеством деревьев от $1$ до $n\\_estimators$. Рассмотрим количество деревьев от 1 до 2000 включительно:"
      ],
      "metadata": {
        "id": "aNRTP1aYvQn-"
      }
    },
    {
      "cell_type": "code",
      "execution_count": 33,
      "metadata": {
        "id": "zVDkGCQVNsBH",
        "colab": {
          "base_uri": "https://localhost:8080/"
        },
        "outputId": "0cad3aa2-0b9f-46af-fd39-4dbcf49ee125"
      },
      "outputs": [
        {
          "output_type": "stream",
          "name": "stderr",
          "text": [
            "100%|██████████| 5/5 [05:24<00:00, 64.85s/it]\n"
          ]
        }
      ],
      "source": [
        "lr_arr = [0.01, 0.05, 0.1, 0.5, 1]\n",
        "n_estimators_max = 2000\n",
        "train_loss_arr, val_loss_arr = [], []\n",
        "for lr in tqdm(lr_arr):\n",
        "    model = GradientBoostingMSE(n_estimators=n_estimators_max,\n",
        "                                learning_rate=lr, random_state=0)\n",
        "    train_loss, val_loss = model.fit(X=X_train, y=y_train,\n",
        "                                     X_val=X_val, y_val=y_val,\n",
        "                                     return_train_loss=True,\n",
        "                                     return_val_loss=True)\n",
        "    train_loss_arr.append(train_loss)\n",
        "    val_loss_arr.append(val_loss)\n",
        "\n",
        "np.save(bin_dir + 'GBM_n_estimators_lr_train_RMSE', train_loss_arr, allow_pickle=False)\n",
        "np.save(bin_dir + 'GBM_n_estimators_lr_val_RMSE', val_loss_arr, allow_pickle=False)"
      ]
    },
    {
      "cell_type": "code",
      "source": [
        "train_loss_arr = np.load(bin_dir + 'GBM_n_estimators_lr_train_RMSE.npy',\n",
        "                         allow_pickle=False)\n",
        "val_loss_arr = np.load(bin_dir + 'GBM_n_estimators_lr_val_RMSE.npy',\n",
        "                       allow_pickle=False)"
      ],
      "metadata": {
        "id": "_zah6X1Zz6Js"
      },
      "execution_count": 34,
      "outputs": []
    },
    {
      "cell_type": "code",
      "source": [
        "plt.figure(figsize=(10, 11))\n",
        "max_x = n_estimators_max\n",
        "eps_lim = 50\n",
        "x_arr = np.arange(1, n_estimators_max + 1)\n",
        "\n",
        "plt.subplot(211)\n",
        "plt.title('Loss on train')\n",
        "for loss, lr in zip(train_loss_arr, lr_arr):\n",
        "    plt.plot(x_arr, loss, label=f'learning rate = {lr}')\n",
        "plt.xlim(-eps_lim, max_x + eps_lim)\n",
        "plt.ylim(0, 300000)\n",
        "plt.xlabel('n_estimators')\n",
        "plt.ylabel('RMSE')\n",
        "plt.legend()\n",
        "\n",
        "plt.subplot(212)\n",
        "plt.title('Loss on validation')\n",
        "for loss, lr_i in zip(val_loss_arr, lr_arr):\n",
        "    plt.plot(x_arr, loss,\n",
        "             label=f'learning rate = {lr_i}')\n",
        "plt.xlim(-eps_lim, max_x + eps_lim)\n",
        "plt.ylim(100000, 400000)\n",
        "plt.xlabel('n_estimators')\n",
        "plt.ylabel('RMSE')\n",
        "\n",
        "# optimal x\n",
        "opt_arg_arr = []\n",
        "opt_values = []\n",
        "for loss in val_loss_arr:\n",
        "    opt_arg = np.array(loss).argmin()\n",
        "    opt_arg_arr.append(opt_arg)\n",
        "    opt_values.append(loss[opt_arg])\n",
        "opt_ind = np.array(opt_values).argmin()\n",
        "opt_arg = opt_arg_arr[opt_ind]\n",
        "print(f'best model optimum at {opt_arg}')\n",
        "plt.scatter(x_arr[opt_arg], val_loss_arr[opt_ind][opt_arg], marker='o',\n",
        "            c=opt_color, zorder=3, label='best model optimum')\n",
        "\n",
        "plt.legend()\n",
        "plt.savefig(graph_dir + 'GBM_n_estimators_lr_RMSE')"
      ],
      "metadata": {
        "colab": {
          "base_uri": "https://localhost:8080/",
          "height": 694
        },
        "id": "hc15WNginiYl",
        "outputId": "39eed539-0789-4b65-dc16-a1af5c5a2da0"
      },
      "execution_count": 35,
      "outputs": [
        {
          "output_type": "stream",
          "name": "stdout",
          "text": [
            "best model optimum at 1629\n"
          ]
        },
        {
          "output_type": "display_data",
          "data": {
            "image/png": "[encoded data removed]",
            "text/plain": [
              "<Figure size 720x792 with 2 Axes>"
            ]
          },
          "metadata": {
            "needs_background": "light"
          }
        }
      ]
    },
    {
      "cell_type": "markdown",
      "source": [
        "Судя по графику, нам **достаточно** модели с $n\\_estimators = 750$, $learning\\_rate = 0.05$ (оптимум самой точной модели находится в точке 1629, но это много деревьев, долго обучаться, а качество на $750$-ти деревьях близко к оптимальному)"
      ],
      "metadata": {
        "id": "jfakQZ2wQz4B"
      }
    },
    {
      "cell_type": "code",
      "source": [
        "n_estimators_opt, learning_rate_opt = 750, 0.05"
      ],
      "metadata": {
        "id": "EBfoau9uRLm-"
      },
      "execution_count": 36,
      "outputs": []
    },
    {
      "cell_type": "code",
      "source": [
        "n_estimators_arr = [1] + list(range(80, 801, 80))\n",
        "time_arr = dict(zip(lr_arr, [[], [], [], [], []]))\n",
        "k = 3\n",
        "for lr in lr_arr:\n",
        "    for n_estimators in tqdm(n_estimators_arr):\n",
        "        time_ = 0\n",
        "        for i in range(k):\n",
        "            start_time = time.time()\n",
        "            model = GradientBoostingMSE(n_estimators=n_estimators,\n",
        "                                    learning_rate=lr,\n",
        "                                    random_state=0)\n",
        "            model.fit(X_train, y_train)\n",
        "            time_ += time.time() - start_time\n",
        "        time_arr[lr].append(time_ / k)\n",
        "np.save(bin_dir + 'GBM_n_estimators_lr_time', time_arr, allow_pickle=True)"
      ],
      "metadata": {
        "colab": {
          "base_uri": "https://localhost:8080/"
        },
        "id": "UA3iSa1cwlrY",
        "outputId": "35cd557f-d0b1-4c4e-c109-59f899de9347"
      },
      "execution_count": 37,
      "outputs": [
        {
          "output_type": "stream",
          "name": "stderr",
          "text": [
            "100%|██████████| 11/11 [06:53<00:00, 37.59s/it]\n",
            "100%|██████████| 11/11 [06:56<00:00, 37.84s/it]\n",
            "100%|██████████| 11/11 [06:57<00:00, 37.97s/it]\n",
            "100%|██████████| 11/11 [06:56<00:00, 37.87s/it]\n",
            "100%|██████████| 11/11 [06:57<00:00, 37.91s/it]\n"
          ]
        }
      ]
    },
    {
      "cell_type": "code",
      "source": [
        "np.load(bin_dir + 'GBM_n_estimators_lr_time.npy', allow_pickle=True)"
      ],
      "metadata": {
        "colab": {
          "base_uri": "https://localhost:8080/"
        },
        "id": "qFtf8pae0iqJ",
        "outputId": "3898bca8-5955-4862-add6-cdc1f1412ea9"
      },
      "execution_count": 38,
      "outputs": [
        {
          "output_type": "execute_result",
          "data": {
            "text/plain": [
              "array({0.01: [0.032508293787638344, 2.492004950841268, 4.962552785873413, 7.506592273712158, 9.968513091405233, 12.51564908027649, 15.011995474497477, 17.496577819188435, 19.98807470003764, 22.70785665512085, 25.126997470855713], 0.05: [0.03101325035095215, 2.504662354787191, 5.003241380055745, 7.557050943374634, 10.101483742396036, 12.638093789418539, 15.117603699366251, 17.673998594284058, 20.159188906351726, 22.788902362187702, 25.164369344711304], 0.1: [0.03158386548360189, 2.5224759578704834, 5.049471457799275, 7.641382773717244, 10.1279669602712, 12.658178249994913, 15.213149070739746, 17.6714084148407, 20.251371065775555, 22.750249067942303, 25.285133520762127], 0.5: [0.03182013829549154, 2.5547756354014077, 5.068995396296184, 7.605627059936523, 10.095647970835367, 12.622804800669352, 15.146728674570719, 17.69950858751933, 20.15871278444926, 22.665025631586712, 25.202718655268352], 1: [0.03105473518371582, 2.498826742172241, 5.018371661504109, 7.610527356465657, 10.14790709813436, 12.653592745463053, 15.169325749079386, 17.65421787897746, 20.124735752741497, 22.734651565551758, 25.364520867665608]},\n",
              "      dtype=object)"
            ]
          },
          "metadata": {},
          "execution_count": 38
        }
      ]
    },
    {
      "cell_type": "code",
      "source": [
        "plt.figure(figsize=(10, 4))\n",
        "plt.title('Training time')\n",
        "for lr in lr_arr:\n",
        "    plt.plot(n_estimators_arr, time_arr[lr], marker='o',\n",
        "             label=f'learning rate = {lr}')\n",
        "plt.xlabel('n_estimators')\n",
        "plt.ylabel('time, s')\n",
        "plt.legend()\n",
        "plt.savefig(graph_dir + 'GBM_n_estimators_lr_time')"
      ],
      "metadata": {
        "colab": {
          "base_uri": "https://localhost:8080/",
          "height": 296
        },
        "id": "qK92yPCW0-_-",
        "outputId": "8bf72d60-54d9-444f-d89e-c8608c645d9c"
      },
      "execution_count": 39,
      "outputs": [
        {
          "output_type": "display_data",
          "data": {
            "image/png": "[encoded data removed]",
            "text/plain": [
              "<Figure size 720x288 with 1 Axes>"
            ]
          },
          "metadata": {
            "needs_background": "light"
          }
        }
      ]
    },
    {
      "cell_type": "markdown",
      "source": [
        "Все графики почти полностью накаладываются друг на друга на представленном масштабе (цвета на предыдущем и на этом графике соответсвуют одним и тем же `learning_rate`), но этого достаточно, чтобы сделать вывод: врем обучения модели градиентного бустинга линейно зависит от `n_estimators` и не зависит от `learning_rate`"
      ],
      "metadata": {
        "id": "JZCQWyHUAnT7"
      }
    },
    {
      "cell_type": "markdown",
      "source": [
        "### Зависимость модели от `max_depth`"
      ],
      "metadata": {
        "id": "oyiZRF1nOvHH"
      }
    },
    {
      "cell_type": "code",
      "source": [
        "train_loss, val_loss, time_arr = [], [], []\n",
        "max_depths = list(range(1, 11)) + [None]\n",
        "k = 3\n",
        "for max_depth in tqdm(max_depths):\n",
        "    time_ = 0\n",
        "    for i in range(k):\n",
        "        start_time = time.time()\n",
        "        model = GradientBoostingMSE(n_estimators=n_estimators_opt,\n",
        "                                    learning_rate=learning_rate_opt,\n",
        "                                    max_depth=max_depth, random_state=0)\n",
        "        model.fit(X_train, y_train)\n",
        "        time_ += time.time() - start_time\n",
        "    time_arr.append(time_ / k)\n",
        "    train_loss.append(RMSE(y_train, model.predict(X_train)))\n",
        "    val_loss.append(RMSE(y_val, model.predict(X_val)))\n",
        "np.save(bin_dir + 'GBM_max_depth_train_RMSE', train_loss, allow_pickle=False)\n",
        "np.save(bin_dir + 'GBM_max_depth_val_RMSE', val_loss, allow_pickle=False)\n",
        "np.save(bin_dir + 'GBM_max_depth_time', time_arr, allow_pickle=False)"
      ],
      "metadata": {
        "colab": {
          "base_uri": "https://localhost:8080/"
        },
        "id": "NNNibQtNBj59",
        "outputId": "4d198768-1289-4d32-c80e-2e822831202d"
      },
      "execution_count": 40,
      "outputs": [
        {
          "output_type": "stream",
          "name": "stderr",
          "text": [
            "100%|██████████| 11/11 [16:33<00:00, 90.28s/it] \n"
          ]
        }
      ]
    },
    {
      "cell_type": "code",
      "source": [
        "train_loss = np.load(bin_dir + 'GBM_max_depth_train_RMSE.npy', allow_pickle=False)\n",
        "val_loss = np.load(bin_dir + 'GBM_max_depth_val_RMSE.npy', allow_pickle=False)\n",
        "time_arr = np.load(bin_dir + 'GBM_max_depth_time.npy', allow_pickle=False)"
      ],
      "metadata": {
        "id": "ohz399FebFzu"
      },
      "execution_count": 41,
      "outputs": []
    },
    {
      "cell_type": "code",
      "source": [
        "plt.figure(figsize=(10, 4))\n",
        "plt.title('Loss on train and validation')\n",
        "max_x = 10\n",
        "gap = 2\n",
        "eps_lim = 0.5\n",
        "x_arr = max_depths[:-1]+[max_x + gap]\n",
        "plt.plot(x_arr, train_loss, label='train', marker='o')\n",
        "plt.plot(x_arr, val_loss, label='validation', marker='o')\n",
        "plt.xticks(ticks=x_arr, labels=max_depths[:-1] + ['unlimited'])\n",
        "plt.xlim((eps_lim, max_x + gap + eps_lim))\n",
        "plt.xlabel('max_depth')\n",
        "plt.ylabel('RMSE')\n",
        "\n",
        "# optimal x\n",
        "opt_arg = np.array(val_loss).argmin() + 1\n",
        "plt.scatter(opt_arg, val_loss[opt_arg - 1], marker='o',\n",
        "            c=opt_color, zorder=5, label='optimal')\n",
        "\n",
        "plt.legend()\n",
        "plt.savefig(graph_dir + 'GBM_max_depth_RMSE')"
      ],
      "metadata": {
        "colab": {
          "base_uri": "https://localhost:8080/",
          "height": 296
        },
        "id": "ZQc3EVRwQLGw",
        "outputId": "8bed0e8f-de7c-49e0-a805-2f12bc8a86cd"
      },
      "execution_count": 42,
      "outputs": [
        {
          "output_type": "display_data",
          "data": {
            "image/png": "[encoded data removed]",
            "text/plain": [
              "<Figure size 720x288 with 1 Axes>"
            ]
          },
          "metadata": {
            "needs_background": "light"
          }
        }
      ]
    },
    {
      "cell_type": "markdown",
      "source": [
        "По графику видно, что оптимальная максимальная глубина деревьев $=5$"
      ],
      "metadata": {
        "id": "oRDn18FXch5-"
      }
    },
    {
      "cell_type": "code",
      "source": [
        "max_depth_opt = opt_arg"
      ],
      "metadata": {
        "id": "oW3q12Ticujs"
      },
      "execution_count": 43,
      "outputs": []
    },
    {
      "cell_type": "code",
      "source": [
        "plt.figure(figsize=(10, 4))\n",
        "plt.title('Training time')\n",
        "max_x = 10\n",
        "gap = 2\n",
        "eps_lim = 0.5\n",
        "x_arr = max_depths[:-1]+[max_x + gap]\n",
        "plt.plot(x_arr, time_arr, marker='o', c='b')\n",
        "plt.xticks(ticks=x_arr, labels=max_depths[:-1] + ['unlimited'])\n",
        "plt.xlim((eps_lim, max_x + gap + eps_lim))\n",
        "plt.xlabel('max_depth')\n",
        "plt.ylabel('time, s')\n",
        "plt.savefig(graph_dir + 'GBM_max_depth_time')"
      ],
      "metadata": {
        "colab": {
          "base_uri": "https://localhost:8080/",
          "height": 296
        },
        "id": "hLm_DFtCQL3v",
        "outputId": "092f3b90-2cf6-4d93-d4c0-73ab1e6c967e"
      },
      "execution_count": 44,
      "outputs": [
        {
          "output_type": "display_data",
          "data": {
            "image/png": "[encoded data removed]",
            "text/plain": [
              "<Figure size 720x288 with 1 Axes>"
            ]
          },
          "metadata": {
            "needs_background": "light"
          }
        }
      ]
    },
    {
      "cell_type": "markdown",
      "source": [
        "### Зависимость от `feature_subsample_size`"
      ],
      "metadata": {
        "id": "zyi2lUZBc3Qt"
      }
    },
    {
      "cell_type": "code",
      "source": [
        "train_loss, val_loss, time_arr = [], [], []\n",
        "max_features_arr = list(range(1, X_train.shape[1] + 1))\n",
        "\n",
        "for max_features in tqdm(max_features_arr):\n",
        "    time_ = 0\n",
        "    for i in range(k):\n",
        "        start_time = time.time()\n",
        "        model = GradientBoostingMSE(n_estimators=n_estimators_opt,\n",
        "                                    learning_rate=learning_rate_opt,\n",
        "                                    max_depth=max_depth_opt, random_state=0,\n",
        "                                    feature_subsample_size=max_features)\n",
        "        model.fit(X_train, y_train)\n",
        "        time_ += time.time() - start_time\n",
        "    time_arr.append(time_ / k)\n",
        "    train_loss.append(RMSE(y_train, model.predict(X_train)))\n",
        "    val_loss.append(RMSE(y_val, model.predict(X_val)))\n",
        "np.save(bin_dir + 'GBM_feature_subsample_size_train_RMSE', train_loss, allow_pickle=False)\n",
        "np.save(bin_dir + 'GBM_feature_subsample_size_val_RMSE', val_loss, allow_pickle=False)\n",
        "np.save(bin_dir + 'GBM_feature_subsample_size_time', time_arr, allow_pickle=False)"
      ],
      "metadata": {
        "id": "ewp7SImzc-2D",
        "colab": {
          "base_uri": "https://localhost:8080/"
        },
        "outputId": "af735d40-006d-46a5-f33f-8163156484f8"
      },
      "execution_count": 45,
      "outputs": [
        {
          "output_type": "stream",
          "name": "stderr",
          "text": [
            "100%|██████████| 21/21 [36:55<00:00, 105.51s/it]\n"
          ]
        }
      ]
    },
    {
      "cell_type": "code",
      "source": [
        "train_loss = np.load(bin_dir + 'GBM_feature_subsample_size_train_RMSE.npy', allow_pickle=False)\n",
        "val_loss = np.load(bin_dir + 'GBM_feature_subsample_size_val_RMSE.npy', allow_pickle=False)\n",
        "time_arr = np.load(bin_dir + 'GBM_feature_subsample_size_time.npy', allow_pickle=False)"
      ],
      "metadata": {
        "id": "cZ8aVyIuUJYG"
      },
      "execution_count": 46,
      "outputs": []
    },
    {
      "cell_type": "code",
      "source": [
        "plt.figure(figsize=(10, 4))\n",
        "plt.title('Loss on train and validation')\n",
        "max_x = X_train.shape[1]\n",
        "eps_lim = 0.5\n",
        "plt.plot(max_features_arr, train_loss, label='train', marker='o')\n",
        "plt.plot(max_features_arr, val_loss, label='validation', marker='o')\n",
        "plt.xticks(ticks=max_features_arr, labels=max_features_arr)\n",
        "plt.xlim((eps_lim, max_x + eps_lim))\n",
        "plt.xlabel('feature_subsample_size')\n",
        "plt.ylabel('RMSE')\n",
        "\n",
        "# optimal x\n",
        "opt_arg = np.array(val_loss).argmin() + 1\n",
        "plt.scatter(opt_arg, val_loss[opt_arg - 1], marker='o',\n",
        "            c=opt_color, zorder=5, label='optimal')\n",
        "\n",
        "plt.legend()\n",
        "plt.savefig(graph_dir + 'GBM_feature_subsample_size_RMSE')"
      ],
      "metadata": {
        "colab": {
          "base_uri": "https://localhost:8080/",
          "height": 296
        },
        "id": "C8oVW6JEUAVI",
        "outputId": "37937458-93f7-4f49-f8f6-62280f5e9f07"
      },
      "execution_count": 47,
      "outputs": [
        {
          "output_type": "display_data",
          "data": {
            "image/png": "[encoded data removed]",
            "text/plain": [
              "<Figure size 720x288 with 1 Axes>"
            ]
          },
          "metadata": {
            "needs_background": "light"
          }
        }
      ]
    },
    {
      "cell_type": "markdown",
      "source": [
        "Судя по графику, оптимальная размерность подвыборки признаков для одного дерева $=16$"
      ],
      "metadata": {
        "id": "LVBhJXriX181"
      }
    },
    {
      "cell_type": "code",
      "source": [
        "feature_subsample_size_opt = opt_arg"
      ],
      "metadata": {
        "id": "1KurwnTpX0EW"
      },
      "execution_count": 48,
      "outputs": []
    },
    {
      "cell_type": "code",
      "source": [
        "plt.figure(figsize=(10, 4))\n",
        "plt.title('Training time')\n",
        "max_x = X_train.shape[1]\n",
        "gap = 2\n",
        "eps_lim = 0.5\n",
        "plt.plot(max_features_arr, time_arr, marker='o', c='b')\n",
        "plt.xticks(ticks=max_features_arr, labels=max_features_arr)\n",
        "plt.xlim((eps_lim, max_x + eps_lim))\n",
        "plt.xlabel('feature_subsample_size')\n",
        "plt.ylabel('time, s')\n",
        "plt.savefig(graph_dir + 'GBM_feature_subsample_size_time')"
      ],
      "metadata": {
        "colab": {
          "base_uri": "https://localhost:8080/",
          "height": 296
        },
        "id": "uGc-48YgXCMM",
        "outputId": "7e84707c-2454-4660-d0fc-99f7dc642ba8"
      },
      "execution_count": 49,
      "outputs": [
        {
          "output_type": "display_data",
          "data": {
            "image/png": "[encoded data removed]",
            "text/plain": [
              "<Figure size 720x288 with 1 Axes>"
            ]
          },
          "metadata": {
            "needs_background": "light"
          }
        }
      ]
    },
    {
      "cell_type": "markdown",
      "source": [
        "По графику видно, что время обучения градиентного бустинга линейно зависит от размерности подвыборки признаков одного дерева"
      ],
      "metadata": {
        "id": "Kp9PGHEPcWpp"
      }
    },
    {
      "cell_type": "markdown",
      "source": [
        "## Лучший алгоритм"
      ],
      "metadata": {
        "id": "ryiEHiNZc0m4"
      }
    },
    {
      "cell_type": "code",
      "source": [
        "max_n_estimators = 2000"
      ],
      "metadata": {
        "id": "t39izl7xhhnI"
      },
      "execution_count": 50,
      "outputs": []
    },
    {
      "cell_type": "markdown",
      "source": [
        "Обучим случайный лес с лучшими параметрами:\n",
        "* `n_estimators` $= 168$\n",
        "* `features_subsample_size` $= 12$\n",
        "* `max_depth` $= None$"
      ],
      "metadata": {
        "id": "LUbD9obrd9mM"
      }
    },
    {
      "cell_type": "code",
      "source": [
        "model = RandomForestMSE(n_estimators=max_n_estimators,\n",
        "                        feature_subsample_size=12,\n",
        "                        max_depth=None,\n",
        "                        random_state=0)\n",
        "start_time = time.time()\n",
        "RF_train_loss, RF_val_loss = model.fit(X=X_train, y=y_train,\n",
        "                                       X_val=X_val, y_val=y_val,\n",
        "                                       return_train_loss=True,\n",
        "                                       return_val_loss=True)\n",
        "np.save(bin_dir + 'RF_final_train_RMSE', train_loss, allow_pickle=False)\n",
        "np.save(bin_dir + 'RF_final_val_RMSE', val_loss, allow_pickle=False)\n",
        "print(f'RF training time: {(time.time() - start_time):.2f} s')"
      ],
      "metadata": {
        "colab": {
          "base_uri": "https://localhost:8080/"
        },
        "id": "cCIfM8mkc0Bw",
        "outputId": "33e0609d-19a8-4892-d9f5-3e9661173b64"
      },
      "execution_count": 51,
      "outputs": [
        {
          "output_type": "stream",
          "name": "stdout",
          "text": [
            "RF training time: 321.39 s\n"
          ]
        }
      ]
    },
    {
      "cell_type": "code",
      "source": [
        "train_loss = np.load(bin_dir + 'RF_final_train_RMSE.npy', allow_pickle=False)\n",
        "val_loss = np.load(bin_dir + 'RF_final_val_RMSE.npy', allow_pickle=False)"
      ],
      "metadata": {
        "id": "khMtAVfQm15j"
      },
      "execution_count": 52,
      "outputs": []
    },
    {
      "cell_type": "markdown",
      "source": [
        "Обучим градиентный бустинг с лучшими параметрами:\n",
        "* `n_estimators` $= 750$\n",
        "* `learning_rate` $= 0.05$\n",
        "* `max_depth` $= 5$\n",
        "* `features_subsample_size` $= 16$\n"
      ],
      "metadata": {
        "id": "bal-EWYpezlK"
      }
    },
    {
      "cell_type": "code",
      "source": [
        "model = GradientBoostingMSE(n_estimators=max_n_estimators,\n",
        "                            learning_rate=0.05,\n",
        "                            max_depth=5,\n",
        "                            feature_subsample_size=16,\n",
        "                            random_state=0)\n",
        "start_time = time.time()\n",
        "GBM_train_loss, GBM_val_loss = model.fit(X=X_train, y=y_train,\n",
        "                                       X_val=X_val, y_val=y_val,\n",
        "                                       return_train_loss=True,\n",
        "                                       return_val_loss=True)\n",
        "np.save(bin_dir + 'GBM_final_train_RMSE', train_loss, allow_pickle=False)\n",
        "np.save(bin_dir + 'GBM_final_val_RMSE', val_loss, allow_pickle=False)\n",
        "print(f'GBM training time: {(time.time() - start_time):.2f} s')"
      ],
      "metadata": {
        "colab": {
          "base_uri": "https://localhost:8080/"
        },
        "id": "BVvZC2GkezlK",
        "outputId": "1ba09f4c-588f-4439-ad21-6bd4f4d8b0cc"
      },
      "execution_count": 53,
      "outputs": [
        {
          "output_type": "stream",
          "name": "stdout",
          "text": [
            "GBM training time: 131.74 s\n"
          ]
        }
      ]
    },
    {
      "cell_type": "code",
      "source": [
        "train_loss = np.load(bin_dir + 'GBM_final_train_RMSE.npy', allow_pickle=False)\n",
        "val_loss = np.load(bin_dir + 'GBM_final_val_RMSE.npy', allow_pickle=False)"
      ],
      "metadata": {
        "id": "R_j0-7CEnGEH"
      },
      "execution_count": 54,
      "outputs": []
    },
    {
      "cell_type": "markdown",
      "source": [
        "Построим график функций потерь для моделей **случайного леса** и **градиентного бустинга** для каждого на **обучающей** и на **валидацинной** выборке:"
      ],
      "metadata": {
        "id": "m6Vh8HuDhlWS"
      }
    },
    {
      "cell_type": "code",
      "source": [
        "plt.figure(figsize=(13, 11))\n",
        "eps_lim = 15\n",
        "loss_arr = [RF_train_loss, RF_val_loss, GBM_train_loss, GBM_val_loss]\n",
        "labels = ['RF train', 'RF validation', 'GBM train', 'GBM validation']\n",
        "colors = ['darkred', 'red', 'darkblue', 'blue']\n",
        "x_arr = list(range(1, max_n_estimators + 1))\n",
        "\n",
        "plt.subplot(211)\n",
        "plt.title('Loss on train and validation')\n",
        "for loss, label_, color_ in zip(loss_arr, labels, colors):\n",
        "    plt.plot(x_arr, loss, label=label_, color=color_)\n",
        "plt.xlabel('n_estimators')\n",
        "plt.ylabel('RMSE')\n",
        "plt.xlim(-eps_lim, max_n_estimators + eps_lim)\n",
        "plt.legend()\n",
        "\n",
        "plt.subplot(212)\n",
        "plt.title('Loss on train and validation')\n",
        "for loss, label_, color_ in zip(loss_arr, labels, colors):\n",
        "    plt.plot(x_arr, loss, label=label_, color=color_)\n",
        "plt.xlabel('n_estimators')\n",
        "plt.ylabel('RMSE')\n",
        "plt.xlim(-eps_lim, max_n_estimators + eps_lim)\n",
        "plt.ylim(25000, 140000)\n",
        "\n",
        "# our x\n",
        "RF_our_arg = 168\n",
        "plt.scatter(RF_our_arg, RF_val_loss[RF_our_arg - 1], marker='D',\n",
        "            c='mediumvioletred', zorder=3, label='RF our n_est')\n",
        "GBM_our_arg = 750\n",
        "plt.scatter(GBM_our_arg, GBM_val_loss[GBM_our_arg - 1], marker='D',\n",
        "            c='turquoise', zorder=3, label='GBM our n_est')\n",
        "\n",
        "# optimal x\n",
        "RF_opt_arg = RF_val_loss.argmin() + 1\n",
        "plt.scatter(RF_opt_arg, RF_val_loss[RF_opt_arg - 1], marker='o',\n",
        "            c='lime', zorder=3, label='RF optimal n_est')\n",
        "GBM_opt_arg = GBM_val_loss.argmin() + 1\n",
        "plt.scatter(GBM_opt_arg, GBM_val_loss[GBM_opt_arg - 1], marker='o',\n",
        "            c='gold', zorder=3, label='GBM optimal n_est')\n",
        "\n",
        "plt.legend(fontsize=9)\n",
        "plt.savefig(graph_dir + 'final_RMSE')"
      ],
      "metadata": {
        "colab": {
          "base_uri": "https://localhost:8080/",
          "height": 677
        },
        "id": "TCmc6dlGhlBl",
        "outputId": "4cbe1e1d-fcd7-4191-f4ac-494795fbf157"
      },
      "execution_count": 56,
      "outputs": [
        {
          "output_type": "display_data",
          "data": {
            "image/png": "[encoded data removed]",
            "text/plain": [
              "<Figure size 936x792 with 2 Axes>"
            ]
          },
          "metadata": {
            "needs_background": "light"
          }
        }
      ]
    },
    {
      "cell_type": "code",
      "source": [
        "print(f'RF (with our n_est = {RF_our_arg}) validation RMSE = {RF_val_loss[RF_our_arg]:.3f}')\n",
        "print(f'RF (with optimal n_est = {RF_opt_arg}) validation RMSE = {RF_val_loss[RF_opt_arg]:.3f}')\n",
        "print(f'GBM (with our n_est = {GBM_our_arg}) validation RMSE = {GBM_val_loss[GBM_our_arg]:.3f}')\n",
        "print(f'GBM (with optimal n_est = {GBM_opt_arg}) validation RMSE = {GBM_val_loss[GBM_opt_arg]:.3f}')"
      ],
      "metadata": {
        "colab": {
          "base_uri": "https://localhost:8080/"
        },
        "id": "LDVOIVLkngi3",
        "outputId": "bc45f33f-2236-41fd-e439-f894b643f3e8"
      },
      "execution_count": 57,
      "outputs": [
        {
          "output_type": "stream",
          "name": "stdout",
          "text": [
            "RF (with our n_est = 168) validation RMSE = 118247.218\n",
            "RF (with optimal n_est = 100) validation RMSE = 117999.428\n",
            "GBM (with our n_est = 750) validation RMSE = 109819.220\n",
            "GBM (with optimal n_est = 1536) validation RMSE = 109296.299\n"
          ]
        }
      ]
    },
    {
      "cell_type": "markdown",
      "source": [
        "Таким образом получили, что при всех, кроме `n_estimators`, лучших подобранных параметрах в моделях существуют `n_estimators`, которые ещё лучше:\n",
        "* $100$ вместо $168$ в RF\n",
        "* $1536$ вместо $750$ в GBM ($750$ мы и не брали оптимальным (потому что много деревьев, дольше время обучения), но близким к оптимальному)\n",
        "\n",
        "**Пояснение**:\n",
        "1. Сначала были найдены оптимальные `n_estimators` для RF и для GBM при их прочих **стандартных (по умолчанию)** параметрах.\n",
        "2. Далее были подобраны оптимальные значения остальных параметров (последовательно, в порядке их важности).\n",
        "3. Заново были найдены `n_estimators` для RF и для GBM при оптимально подобранных в пункте 2 параметрах.\n",
        "\n",
        "Но всё же брать $1536$ деревьев в GBM $-$ это в два раза увеличить время работы алгоритма по сравнению с теми же $750$-ю деревьями при улучшении качества всего на $\\left(1 - \\frac{109296.299}{109819.220}\\right) \\cdot 100\\% \\approx 0.48\\%$.\n",
        "\n",
        "То есть в production гораздо лучше взять модель, которая работает в два раза быстрее development-версии, но чуть (или даже не чуть) хуже качеством. Вроде бы так и делают. А судя по графику потерь GBM на валидации, как раз примерно с $750$-ти деревьев и начинается **достаточный** уровень качества модели.\n",
        "\n",
        "Тогда остановимся на том, что:\n",
        "* У RF оптимальное число деревьев $= 100$ и для development-версии, и для production-версии. \n",
        "* У GBM оптимальное число деревьев $= 1536$ для development-версии и $= 750$ для production-версии.\n",
        "\n",
        "Прочие оптимальные параметры одинаковы и не изменялись. "
      ],
      "metadata": {
        "id": "cR8pQMkX8rII"
      }
    },
    {
      "cell_type": "markdown",
      "source": [
        "**Итого**:\n",
        "* Лучшие development-параметры:\n",
        "  * RF ($RMSE \\approx 117999$):\n",
        "    * `n_estimators` $= 100$\n",
        "    * `features_subsample_size` $= 12$\n",
        "    * `max_depth` $= None$\n",
        "  * GBM ($RMSE \\approx 109296$):\n",
        "    * `n_estimators` $= 1536$\n",
        "    * `learning_rate` $= 0.05$\n",
        "    * `max_depth` $= 5$\n",
        "    * `features_subsample_size` $= 16$\n",
        "\n",
        "* Лучшие production-параметры:\n",
        "  * RF ($RMSE \\approx 117999$):\n",
        "    * `n_estimators` $= 100$\n",
        "    * `features_subsample_size` $= 12$\n",
        "    * `max_depth` $= None$\n",
        "  * GBM ($RMSE \\approx 109819$):\n",
        "    * `n_estimators` $= 750$\n",
        "    * `learning_rate` $= 0.05$\n",
        "    * `max_depth` $= 5$\n",
        "    * `features_subsample_size` $= 16$\n"
      ],
      "metadata": {
        "id": "BQVuAjV0DJl5"
      }
    }
  ],
  "metadata": {
    "colab": {
      "machine_shape": "hm",
      "name": "experiments.ipynb",
      "provenance": [],
      "collapsed_sections": []
    },
    "kernelspec": {
      "display_name": "Python 3",
      "language": "python",
      "name": "python3"
    },
    "language_info": {
      "codemirror_mode": {
        "name": "ipython",
        "version": 3
      },
      "file_extension": ".py",
      "mimetype": "text/x-python",
      "name": "python",
      "nbconvert_exporter": "python",
      "pygments_lexer": "ipython3",
      "version": "3.6.13"
    }
  },
  "nbformat": 4,
  "nbformat_minor": 0
}